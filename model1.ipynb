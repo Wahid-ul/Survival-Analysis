{
 "cells": [
  {
   "cell_type": "code",
   "execution_count": 1,
   "metadata": {},
   "outputs": [],
   "source": [
    "import pandas as pd\n",
    "import numpy as np"
   ]
  },
  {
   "cell_type": "code",
   "execution_count": 2,
   "metadata": {},
   "outputs": [],
   "source": [
    "df=pd.read_csv('pancancerinfo.csv')"
   ]
  },
  {
   "cell_type": "code",
   "execution_count": 3,
   "metadata": {},
   "outputs": [
    {
     "data": {
      "text/html": [
       "<div>\n",
       "<style scoped>\n",
       "    .dataframe tbody tr th:only-of-type {\n",
       "        vertical-align: middle;\n",
       "    }\n",
       "\n",
       "    .dataframe tbody tr th {\n",
       "        vertical-align: top;\n",
       "    }\n",
       "\n",
       "    .dataframe thead th {\n",
       "        text-align: right;\n",
       "    }\n",
       "</style>\n",
       "<table border=\"1\" class=\"dataframe\">\n",
       "  <thead>\n",
       "    <tr style=\"text-align: right;\">\n",
       "      <th></th>\n",
       "      <th>bcr_patient_barcode</th>\n",
       "      <th>type</th>\n",
       "      <th>age_at_initial_pathologic_diagnosis</th>\n",
       "      <th>gender</th>\n",
       "      <th>race</th>\n",
       "      <th>ajcc_pathologic_tumor_stage</th>\n",
       "      <th>vital_status</th>\n",
       "      <th>treatment_outcome_first_course</th>\n",
       "      <th>Event</th>\n",
       "      <th>Delay</th>\n",
       "    </tr>\n",
       "  </thead>\n",
       "  <tbody>\n",
       "    <tr>\n",
       "      <th>0</th>\n",
       "      <td>TCGA_CF_A9FH</td>\n",
       "      <td>BLCA</td>\n",
       "      <td>85.0</td>\n",
       "      <td>MALE</td>\n",
       "      <td>ASIAN</td>\n",
       "      <td>Stage II</td>\n",
       "      <td>Alive</td>\n",
       "      <td>Complete Remission/Response</td>\n",
       "      <td>0.0</td>\n",
       "      <td>0.0</td>\n",
       "    </tr>\n",
       "    <tr>\n",
       "      <th>1</th>\n",
       "      <td>TCGA_A8_A06N</td>\n",
       "      <td>BRCA</td>\n",
       "      <td>66.0</td>\n",
       "      <td>FEMALE</td>\n",
       "      <td>[Not Available]</td>\n",
       "      <td>Stage IIIB</td>\n",
       "      <td>Alive</td>\n",
       "      <td>[Not Available]</td>\n",
       "      <td>0.0</td>\n",
       "      <td>0.0</td>\n",
       "    </tr>\n",
       "    <tr>\n",
       "      <th>2</th>\n",
       "      <td>TCGA_A8_A081</td>\n",
       "      <td>BRCA</td>\n",
       "      <td>80.0</td>\n",
       "      <td>FEMALE</td>\n",
       "      <td>[Not Available]</td>\n",
       "      <td>Stage IIA</td>\n",
       "      <td>Alive</td>\n",
       "      <td>[Not Available]</td>\n",
       "      <td>0.0</td>\n",
       "      <td>0.0</td>\n",
       "    </tr>\n",
       "    <tr>\n",
       "      <th>3</th>\n",
       "      <td>TCGA_A8_A083</td>\n",
       "      <td>BRCA</td>\n",
       "      <td>67.0</td>\n",
       "      <td>FEMALE</td>\n",
       "      <td>[Not Available]</td>\n",
       "      <td>Stage IIB</td>\n",
       "      <td>Alive</td>\n",
       "      <td>[Not Available]</td>\n",
       "      <td>0.0</td>\n",
       "      <td>0.0</td>\n",
       "    </tr>\n",
       "    <tr>\n",
       "      <th>4</th>\n",
       "      <td>TCGA_A8_A08H</td>\n",
       "      <td>BRCA</td>\n",
       "      <td>66.0</td>\n",
       "      <td>FEMALE</td>\n",
       "      <td>[Not Available]</td>\n",
       "      <td>Stage IIA</td>\n",
       "      <td>Alive</td>\n",
       "      <td>[Not Available]</td>\n",
       "      <td>0.0</td>\n",
       "      <td>0.0</td>\n",
       "    </tr>\n",
       "  </tbody>\n",
       "</table>\n",
       "</div>"
      ],
      "text/plain": [
       "  bcr_patient_barcode  type  age_at_initial_pathologic_diagnosis  gender  \\\n",
       "0        TCGA_CF_A9FH  BLCA                                 85.0    MALE   \n",
       "1        TCGA_A8_A06N  BRCA                                 66.0  FEMALE   \n",
       "2        TCGA_A8_A081  BRCA                                 80.0  FEMALE   \n",
       "3        TCGA_A8_A083  BRCA                                 67.0  FEMALE   \n",
       "4        TCGA_A8_A08H  BRCA                                 66.0  FEMALE   \n",
       "\n",
       "              race ajcc_pathologic_tumor_stage vital_status  \\\n",
       "0            ASIAN                    Stage II        Alive   \n",
       "1  [Not Available]                  Stage IIIB        Alive   \n",
       "2  [Not Available]                   Stage IIA        Alive   \n",
       "3  [Not Available]                   Stage IIB        Alive   \n",
       "4  [Not Available]                   Stage IIA        Alive   \n",
       "\n",
       "  treatment_outcome_first_course  Event  Delay  \n",
       "0    Complete Remission/Response    0.0    0.0  \n",
       "1                [Not Available]    0.0    0.0  \n",
       "2                [Not Available]    0.0    0.0  \n",
       "3                [Not Available]    0.0    0.0  \n",
       "4                [Not Available]    0.0    0.0  "
      ]
     },
     "execution_count": 3,
     "metadata": {},
     "output_type": "execute_result"
    }
   ],
   "source": [
    "df.head()"
   ]
  },
  {
   "cell_type": "code",
   "execution_count": 4,
   "metadata": {},
   "outputs": [
    {
     "data": {
      "text/plain": [
       "<bound method DataFrame.info of       bcr_patient_barcode  type  age_at_initial_pathologic_diagnosis  gender  \\\n",
       "0            TCGA_CF_A9FH  BLCA                                 85.0    MALE   \n",
       "1            TCGA_A8_A06N  BRCA                                 66.0  FEMALE   \n",
       "2            TCGA_A8_A081  BRCA                                 80.0  FEMALE   \n",
       "3            TCGA_A8_A083  BRCA                                 67.0  FEMALE   \n",
       "4            TCGA_A8_A08H  BRCA                                 66.0  FEMALE   \n",
       "...                   ...   ...                                  ...     ...   \n",
       "11155        TCGA_D3_A8GR  SKCM                                 54.0  FEMALE   \n",
       "11156        TCGA_EE_A183  SKCM                                 48.0    MALE   \n",
       "11157        TCGA_EE_A20C  SKCM                                 59.0    MALE   \n",
       "11158        TCGA_EE_A29W  SKCM                                 42.0    MALE   \n",
       "11159        TCGA_ER_A2NE  SKCM                                 39.0    MALE   \n",
       "\n",
       "                  race ajcc_pathologic_tumor_stage vital_status  \\\n",
       "0                ASIAN                    Stage II        Alive   \n",
       "1      [Not Available]                  Stage IIIB        Alive   \n",
       "2      [Not Available]                   Stage IIA        Alive   \n",
       "3      [Not Available]                   Stage IIB        Alive   \n",
       "4      [Not Available]                   Stage IIA        Alive   \n",
       "...                ...                         ...          ...   \n",
       "11155            WHITE                     Stage 0         Dead   \n",
       "11156            WHITE                     Stage 0         Dead   \n",
       "11157            WHITE                     Stage 0         Dead   \n",
       "11158            WHITE                     Stage 0        Alive   \n",
       "11159            WHITE                     Stage 0         Dead   \n",
       "\n",
       "      treatment_outcome_first_course  Event  Delay  \n",
       "0        Complete Remission/Response    0.0    0.0  \n",
       "1                    [Not Available]    0.0    0.0  \n",
       "2                    [Not Available]    0.0    0.0  \n",
       "3                    [Not Available]    0.0    0.0  \n",
       "4                    [Not Available]    0.0    0.0  \n",
       "...                              ...    ...    ...  \n",
       "11155                [Not Available]    NaN    NaN  \n",
       "11156                [Not Available]    NaN    NaN  \n",
       "11157                [Not Available]    NaN    NaN  \n",
       "11158                [Not Available]    NaN    NaN  \n",
       "11159                [Not Available]    NaN    NaN  \n",
       "\n",
       "[11160 rows x 10 columns]>"
      ]
     },
     "execution_count": 4,
     "metadata": {},
     "output_type": "execute_result"
    }
   ],
   "source": [
    "df.info"
   ]
  },
  {
   "cell_type": "code",
   "execution_count": 5,
   "metadata": {
    "scrolled": true
   },
   "outputs": [
    {
     "data": {
      "text/html": [
       "<div>\n",
       "<style scoped>\n",
       "    .dataframe tbody tr th:only-of-type {\n",
       "        vertical-align: middle;\n",
       "    }\n",
       "\n",
       "    .dataframe tbody tr th {\n",
       "        vertical-align: top;\n",
       "    }\n",
       "\n",
       "    .dataframe thead th {\n",
       "        text-align: right;\n",
       "    }\n",
       "</style>\n",
       "<table border=\"1\" class=\"dataframe\">\n",
       "  <thead>\n",
       "    <tr style=\"text-align: right;\">\n",
       "      <th></th>\n",
       "      <th>age_at_initial_pathologic_diagnosis</th>\n",
       "      <th>Event</th>\n",
       "      <th>Delay</th>\n",
       "    </tr>\n",
       "  </thead>\n",
       "  <tbody>\n",
       "    <tr>\n",
       "      <th>count</th>\n",
       "      <td>11109.000000</td>\n",
       "      <td>11151.000000</td>\n",
       "      <td>11094.000000</td>\n",
       "    </tr>\n",
       "    <tr>\n",
       "      <th>mean</th>\n",
       "      <td>59.099019</td>\n",
       "      <td>0.324814</td>\n",
       "      <td>1038.605553</td>\n",
       "    </tr>\n",
       "    <tr>\n",
       "      <th>std</th>\n",
       "      <td>14.415440</td>\n",
       "      <td>0.468326</td>\n",
       "      <td>1038.663449</td>\n",
       "    </tr>\n",
       "    <tr>\n",
       "      <th>min</th>\n",
       "      <td>10.000000</td>\n",
       "      <td>0.000000</td>\n",
       "      <td>0.000000</td>\n",
       "    </tr>\n",
       "    <tr>\n",
       "      <th>25%</th>\n",
       "      <td>50.000000</td>\n",
       "      <td>0.000000</td>\n",
       "      <td>381.000000</td>\n",
       "    </tr>\n",
       "    <tr>\n",
       "      <th>50%</th>\n",
       "      <td>60.000000</td>\n",
       "      <td>0.000000</td>\n",
       "      <td>714.000000</td>\n",
       "    </tr>\n",
       "    <tr>\n",
       "      <th>75%</th>\n",
       "      <td>70.000000</td>\n",
       "      <td>1.000000</td>\n",
       "      <td>1369.000000</td>\n",
       "    </tr>\n",
       "    <tr>\n",
       "      <th>max</th>\n",
       "      <td>90.000000</td>\n",
       "      <td>1.000000</td>\n",
       "      <td>11252.000000</td>\n",
       "    </tr>\n",
       "  </tbody>\n",
       "</table>\n",
       "</div>"
      ],
      "text/plain": [
       "       age_at_initial_pathologic_diagnosis         Event         Delay\n",
       "count                         11109.000000  11151.000000  11094.000000\n",
       "mean                             59.099019      0.324814   1038.605553\n",
       "std                              14.415440      0.468326   1038.663449\n",
       "min                              10.000000      0.000000      0.000000\n",
       "25%                              50.000000      0.000000    381.000000\n",
       "50%                              60.000000      0.000000    714.000000\n",
       "75%                              70.000000      1.000000   1369.000000\n",
       "max                              90.000000      1.000000  11252.000000"
      ]
     },
     "execution_count": 5,
     "metadata": {},
     "output_type": "execute_result"
    }
   ],
   "source": [
    "df.describe()"
   ]
  },
  {
   "cell_type": "markdown",
   "metadata": {},
   "source": [
    "## Handling  Missing Values"
   ]
  },
  {
   "cell_type": "code",
   "execution_count": 6,
   "metadata": {},
   "outputs": [
    {
     "data": {
      "text/plain": [
       "bcr_patient_barcode                     0\n",
       "type                                    0\n",
       "age_at_initial_pathologic_diagnosis    51\n",
       "gender                                  0\n",
       "race                                    0\n",
       "ajcc_pathologic_tumor_stage             0\n",
       "vital_status                            4\n",
       "treatment_outcome_first_course         51\n",
       "Event                                   9\n",
       "Delay                                  66\n",
       "dtype: int64"
      ]
     },
     "execution_count": 6,
     "metadata": {},
     "output_type": "execute_result"
    }
   ],
   "source": [
    "df.isnull().sum()"
   ]
  },
  {
   "cell_type": "code",
   "execution_count": 7,
   "metadata": {},
   "outputs": [
    {
     "data": {
      "text/plain": [
       "WHITE                                        8186\n",
       "[Not Available]                              1038\n",
       "BLACK OR AFRICAN AMERICAN                     934\n",
       "ASIAN                                         675\n",
       "[Not Evaluated]                               155\n",
       "[Unknown]                                     132\n",
       "AMERICAN INDIAN OR ALASKA NATIVE               27\n",
       "NATIVE HAWAIIAN OR OTHER PACIFIC ISLANDER      13\n",
       "Name: race, dtype: int64"
      ]
     },
     "execution_count": 7,
     "metadata": {},
     "output_type": "execute_result"
    }
   ],
   "source": [
    "df['race'].value_counts()"
   ]
  },
  {
   "cell_type": "code",
   "execution_count": 8,
   "metadata": {},
   "outputs": [
    {
     "data": {
      "text/plain": [
       "[Not Available]     2280\n",
       "[Not Applicable]    1864\n",
       "Stage I             1286\n",
       "Stage IIA            804\n",
       "Stage III            709\n",
       "Stage IIB            702\n",
       "Stage II             642\n",
       "Stage IIIA           507\n",
       "Stage IV             479\n",
       "Stage IB             401\n",
       "Stage IA             383\n",
       "Stage IVA            336\n",
       "Stage IIIB           286\n",
       "Stage IIIC           248\n",
       "Stage IIC             67\n",
       "[Discrepancy]         53\n",
       "IS                    46\n",
       "Stage IVB             21\n",
       "I/II NOS              14\n",
       "Stage X               13\n",
       "Stage IVC              7\n",
       "Stage 0                7\n",
       "[Unknown]              5\n",
       "Name: ajcc_pathologic_tumor_stage, dtype: int64"
      ]
     },
     "execution_count": 8,
     "metadata": {},
     "output_type": "execute_result"
    }
   ],
   "source": [
    "df['ajcc_pathologic_tumor_stage'].value_counts()"
   ]
  },
  {
   "cell_type": "code",
   "execution_count": 9,
   "metadata": {},
   "outputs": [
    {
     "data": {
      "text/plain": [
       "[Not Available]                                            5140\n",
       "Complete Remission/Response                                4093\n",
       "Progressive Disease                                         672\n",
       "Stable Disease                                              376\n",
       "[Unknown]                                                   353\n",
       "Partial Remission/Response                                  292\n",
       "[Not Applicable]                                            105\n",
       "No Measureable Tumor or Tumor Markers                        36\n",
       "[Discrepancy]                                                29\n",
       "Persistent Disease                                            6\n",
       "[Not Evaluated]                                               4\n",
       "Normalization of Tumor Markers, but Residual Tumor Mass       3\n",
       "Name: treatment_outcome_first_course, dtype: int64"
      ]
     },
     "execution_count": 9,
     "metadata": {},
     "output_type": "execute_result"
    }
   ],
   "source": [
    "df['treatment_outcome_first_course'].value_counts()"
   ]
  },
  {
   "cell_type": "code",
   "execution_count": 10,
   "metadata": {},
   "outputs": [
    {
     "data": {
      "text/plain": [
       "0.0    7529\n",
       "1.0    3622\n",
       "Name: Event, dtype: int64"
      ]
     },
     "execution_count": 10,
     "metadata": {},
     "output_type": "execute_result"
    }
   ],
   "source": [
    "df['Event'].value_counts()"
   ]
  },
  {
   "cell_type": "code",
   "execution_count": 11,
   "metadata": {},
   "outputs": [
    {
     "data": {
      "text/plain": [
       "Index(['bcr_patient_barcode', 'type', 'age_at_initial_pathologic_diagnosis',\n",
       "       'gender', 'race', 'ajcc_pathologic_tumor_stage', 'vital_status',\n",
       "       'treatment_outcome_first_course', 'Event', 'Delay'],\n",
       "      dtype='object')"
      ]
     },
     "execution_count": 11,
     "metadata": {},
     "output_type": "execute_result"
    }
   ],
   "source": [
    "df.columns"
   ]
  },
  {
   "cell_type": "code",
   "execution_count": 12,
   "metadata": {},
   "outputs": [
    {
     "name": "stdout",
     "output_type": "stream",
     "text": [
      "51\n",
      "4\n",
      "51\n",
      "9\n",
      "66\n"
     ]
    }
   ],
   "source": [
    "print(df['age_at_initial_pathologic_diagnosis'].isna().sum())\n",
    "print(df['vital_status'].isna().sum())\n",
    "print(df['treatment_outcome_first_course'].isna().sum())\n",
    "print(df['Event'].isna().sum())\n",
    "print(df['Delay'].isna().sum())"
   ]
  },
  {
   "cell_type": "code",
   "execution_count": 13,
   "metadata": {},
   "outputs": [
    {
     "data": {
      "text/plain": [
       "181"
      ]
     },
     "execution_count": 13,
     "metadata": {},
     "output_type": "execute_result"
    }
   ],
   "source": [
    "df.isna().sum().sum()"
   ]
  },
  {
   "cell_type": "markdown",
   "metadata": {},
   "source": [
    "### Converting all missing values into pd.NA:\n",
    "   Since this data set has many values that are missing in the form of [Not Available]','[Not Applicable]','[Unknown]','[Not Evaluated] so we have to convert these in the same type of NA (pandas) value"
   ]
  },
  {
   "cell_type": "code",
   "execution_count": 14,
   "metadata": {},
   "outputs": [],
   "source": [
    "#replacing all unwanted missing information into pd.NA \n",
    "#inplace=True means it  replace will happen in original dataset\n",
    "df.replace(['[Not Available]','[Not Applicable]','[Unknown]','[Not Evaluated]','[Discrepancy]'],pd.NA,inplace=True)"
   ]
  },
  {
   "cell_type": "code",
   "execution_count": 15,
   "metadata": {},
   "outputs": [
    {
     "data": {
      "text/plain": [
       "Complete Remission/Response                                4093\n",
       "Progressive Disease                                         672\n",
       "Stable Disease                                              376\n",
       "Partial Remission/Response                                  292\n",
       "No Measureable Tumor or Tumor Markers                        36\n",
       "Persistent Disease                                            6\n",
       "Normalization of Tumor Markers, but Residual Tumor Mass       3\n",
       "Name: treatment_outcome_first_course, dtype: int64"
      ]
     },
     "execution_count": 15,
     "metadata": {},
     "output_type": "execute_result"
    }
   ],
   "source": [
    "df['treatment_outcome_first_course'].value_counts()"
   ]
  },
  {
   "cell_type": "code",
   "execution_count": 16,
   "metadata": {},
   "outputs": [
    {
     "name": "stdout",
     "output_type": "stream",
     "text": [
      "Null value at age_at_initial_pathologic_diagnosis column:51\n",
      "Null value at vital_status Column:5\n",
      "Null value at race column:1325\n",
      "Null value at ajcc_pathologic_tumor_stage column:4202\n",
      "Null value at treatment_outcome_first_course column:5682\n",
      "Null value at Event column:9\n",
      "Null value at Delay column:66\n"
     ]
    }
   ],
   "source": [
    "print(f\"Null value at age_at_initial_pathologic_diagnosis column:{df['age_at_initial_pathologic_diagnosis'].isna().sum()}\")\n",
    "print(f\"Null value at vital_status Column:{df['vital_status'].isna().sum()}\")\n",
    "print(f\"Null value at race column:{df['race'].isna().sum()}\")\n",
    "print(f\"Null value at ajcc_pathologic_tumor_stage column:{df['ajcc_pathologic_tumor_stage'].isna().sum()}\")\n",
    "print(f\"Null value at treatment_outcome_first_course column:{df['treatment_outcome_first_course'].isna().sum()}\")\n",
    "print(f\"Null value at Event column:{df['Event'].isna().sum()}\")\n",
    "print(f\"Null value at Delay column:{df['Delay'].isna().sum()}\")"
   ]
  },
  {
   "cell_type": "code",
   "execution_count": 17,
   "metadata": {},
   "outputs": [
    {
     "data": {
      "text/plain": [
       "11340"
      ]
     },
     "execution_count": 17,
     "metadata": {},
     "output_type": "execute_result"
    }
   ],
   "source": [
    "df.isna().sum().sum()"
   ]
  },
  {
   "cell_type": "markdown",
   "metadata": {},
   "source": [
    "##### Since treatement column has 5653 missing values so I decide to drop it "
   ]
  },
  {
   "cell_type": "code",
   "execution_count": 18,
   "metadata": {},
   "outputs": [],
   "source": [
    "df.drop('treatment_outcome_first_course',axis=1,inplace=True)"
   ]
  },
  {
   "cell_type": "code",
   "execution_count": 19,
   "metadata": {},
   "outputs": [
    {
     "data": {
      "text/plain": [
       "(11160, 9)"
      ]
     },
     "execution_count": 19,
     "metadata": {},
     "output_type": "execute_result"
    }
   ],
   "source": [
    "df.shape"
   ]
  },
  {
   "cell_type": "markdown",
   "metadata": {},
   "source": [
    "##### Missing value in the column Race is dealing with forward fill method"
   ]
  },
  {
   "cell_type": "code",
   "execution_count": 20,
   "metadata": {},
   "outputs": [],
   "source": [
    "#since missing values of column Race are existed in between not null and same repeated \n",
    "#values so forwardfill method is best for treating null value\n",
    "column=['race']\n",
    "df.loc[:,column]=df.loc[:,column].ffill()"
   ]
  },
  {
   "cell_type": "code",
   "execution_count": 21,
   "metadata": {},
   "outputs": [
    {
     "data": {
      "text/plain": [
       "4333"
      ]
     },
     "execution_count": 21,
     "metadata": {},
     "output_type": "execute_result"
    }
   ],
   "source": [
    "df.isna().sum().sum()"
   ]
  },
  {
   "cell_type": "code",
   "execution_count": 22,
   "metadata": {},
   "outputs": [
    {
     "data": {
      "text/plain": [
       "bcr_patient_barcode                       0\n",
       "type                                      0\n",
       "age_at_initial_pathologic_diagnosis      51\n",
       "gender                                    0\n",
       "race                                      0\n",
       "ajcc_pathologic_tumor_stage            4202\n",
       "vital_status                              5\n",
       "Event                                     9\n",
       "Delay                                    66\n",
       "dtype: int64"
      ]
     },
     "execution_count": 22,
     "metadata": {},
     "output_type": "execute_result"
    }
   ],
   "source": [
    "df.isnull().sum()"
   ]
  },
  {
   "cell_type": "markdown",
   "metadata": {},
   "source": [
    "#### Since very few missing values are in the column status so we can deal with forward filling"
   ]
  },
  {
   "cell_type": "code",
   "execution_count": 23,
   "metadata": {},
   "outputs": [],
   "source": [
    "sdf=['vital_status']\n",
    "df.loc[:,sdf]=df.loc[:,sdf].ffill()"
   ]
  },
  {
   "cell_type": "code",
   "execution_count": 24,
   "metadata": {},
   "outputs": [
    {
     "data": {
      "text/plain": [
       "0"
      ]
     },
     "execution_count": 24,
     "metadata": {},
     "output_type": "execute_result"
    }
   ],
   "source": [
    "df['vital_status'].isnull().sum()"
   ]
  },
  {
   "cell_type": "markdown",
   "metadata": {},
   "source": [
    "### Getting mean age  with different race"
   ]
  },
  {
   "cell_type": "code",
   "execution_count": 25,
   "metadata": {},
   "outputs": [
    {
     "name": "stdout",
     "output_type": "stream",
     "text": [
      "race\n",
      "AMERICAN INDIAN OR ALASKA NATIVE             52.482759\n",
      "ASIAN                                        56.547097\n",
      "BLACK OR AFRICAN AMERICAN                    58.549282\n",
      "NATIVE HAWAIIAN OR OTHER PACIFIC ISLANDER    56.312500\n",
      "WHITE                                        59.400692\n",
      "Name: age_at_initial_pathologic_diagnosis, dtype: float64AxesSubplot(0.125,0.125;0.775x0.755)\n"
     ]
    },
    {
     "data": {
      "image/png": "[encoded data removed]",
      "text/plain": [
       "<Figure size 432x288 with 1 Axes>"
      ]
     },
     "metadata": {
      "needs_background": "light"
     },
     "output_type": "display_data"
    }
   ],
   "source": [
    "print(f\"{df.groupby(['race'])['age_at_initial_pathologic_diagnosis'].mean()}{df.groupby(['race'])['age_at_initial_pathologic_diagnosis'].mean().plot.bar()}\")"
   ]
  },
  {
   "cell_type": "code",
   "execution_count": 26,
   "metadata": {},
   "outputs": [],
   "source": [
    "#replacing null value with mean with different race\n",
    "column=['age_at_initial_pathologic_diagnosis']\n",
    "race_index_c=df[(df['age_at_initial_pathologic_diagnosis'].isnull())].index\n",
    "american_indian_age_mean=df[df['race']=='AMERICAN INDIAN OR ALASKA NATIVE'].mean(skipna=True,numeric_only=True).age_at_initial_pathologic_diagnosis\n",
    "asian_age_mean=df[df['race']=='ASIAN'].mean(skipna=True,numeric_only=True).age_at_initial_pathologic_diagnosis\n",
    "black_age_mean=df[df['race']=='BLACK OR AFRICAN AMERICAN'].mean(skipna=True,numeric_only=True).age_at_initial_pathologic_diagnosis\n",
    "hawaiian_age_mean=df[df['race']=='NATIVE HAWAIIAN OR OTHER PACIFIC ISLANDER'].mean(skipna=True,numeric_only=True).age_at_initial_pathologic_diagnosis\n",
    "white_age_mean=df[df['race']=='WHITE'].mean(skipna=True,numeric_only=True).age_at_initial_pathologic_diagnosis\n",
    "for i in race_index_c:\n",
    "    if df['race'][i]=='AMERICAN INDIAN OR ALASKA NATIVE':\n",
    "        df.at[i,column]=american_indian_age_mean\n",
    "    if df['race'][i]=='ASIAN':\n",
    "        df.at[i,column]=asian_age_mean\n",
    "    if df['race'][i]=='BLACK OR AFRICAN AMERICAN':\n",
    "        df.at[i,column]=black_age_mean\n",
    "    if df['race'][i]=='NATIVE HAWAIIAN OR OTHER PACIFIC ISLANDER':\n",
    "        df.at[i,column]=hawaiian_age_mean\n",
    "    if df['race'][i]=='WHITE':\n",
    "        df.at[i,column]=white_age_mean\n",
    "        "
   ]
  },
  {
   "cell_type": "code",
   "execution_count": 27,
   "metadata": {},
   "outputs": [
    {
     "data": {
      "text/plain": [
       "bcr_patient_barcode                       0\n",
       "type                                      0\n",
       "age_at_initial_pathologic_diagnosis       0\n",
       "gender                                    0\n",
       "race                                      0\n",
       "ajcc_pathologic_tumor_stage            4202\n",
       "vital_status                              0\n",
       "Event                                     9\n",
       "Delay                                    66\n",
       "dtype: int64"
      ]
     },
     "execution_count": 27,
     "metadata": {},
     "output_type": "execute_result"
    }
   ],
   "source": [
    "df.isnull().sum()"
   ]
  },
  {
   "cell_type": "markdown",
   "metadata": {},
   "source": [
    "### Dropping Event column"
   ]
  },
  {
   "cell_type": "code",
   "execution_count": 28,
   "metadata": {},
   "outputs": [],
   "source": [
    "#Event column is a duplicate column of vital_status so it would be better to drop the entire column\n",
    "df.drop('Event',axis=1,inplace=True)"
   ]
  },
  {
   "cell_type": "code",
   "execution_count": 29,
   "metadata": {},
   "outputs": [],
   "source": [
    "#column bcr_patient_barcode has no use in this analysis so it would be better to drop the column\n",
    "df.drop('bcr_patient_barcode',axis=1,inplace=True)"
   ]
  },
  {
   "cell_type": "code",
   "execution_count": 30,
   "metadata": {},
   "outputs": [],
   "source": [
    "#column 'Delay' has significant role in this analysis but also contain some missing value \n",
    "#so initially I have decided it to drop and treating missing value of tumor_stage column then again we will add Delay\n",
    "df1=df.drop('Delay',axis=1)"
   ]
  },
  {
   "cell_type": "code",
   "execution_count": 31,
   "metadata": {},
   "outputs": [
    {
     "data": {
      "text/plain": [
       "type                                      0\n",
       "age_at_initial_pathologic_diagnosis       0\n",
       "gender                                    0\n",
       "race                                      0\n",
       "ajcc_pathologic_tumor_stage            4202\n",
       "vital_status                              0\n",
       "dtype: int64"
      ]
     },
     "execution_count": 31,
     "metadata": {},
     "output_type": "execute_result"
    }
   ],
   "source": [
    "df1.isnull().sum()"
   ]
  },
  {
   "cell_type": "markdown",
   "metadata": {},
   "source": [
    "### Column Stage"
   ]
  },
  {
   "cell_type": "code",
   "execution_count": 32,
   "metadata": {},
   "outputs": [
    {
     "name": "stdout",
     "output_type": "stream",
     "text": [
      "Stage I       1286\n",
      "Stage IIA      804\n",
      "Stage III      709\n",
      "Stage IIB      702\n",
      "Stage II       642\n",
      "Stage IIIA     507\n",
      "Stage IV       479\n",
      "Stage IB       401\n",
      "Stage IA       383\n",
      "Stage IVA      336\n",
      "Stage IIIB     286\n",
      "Stage IIIC     248\n",
      "Stage IIC       67\n",
      "IS              46\n",
      "Stage IVB       21\n",
      "I/II NOS        14\n",
      "Stage X         13\n",
      "Stage 0          7\n",
      "Stage IVC        7\n",
      "Name: ajcc_pathologic_tumor_stage, dtype: int64,\n",
      "Mode is:0    Stage I\n",
      "dtype: object,\n",
      "AxesSubplot(0.125,0.125;0.775x0.755)\n"
     ]
    },
    {
     "data": {
      "image/png": "[encoded data removed]",
      "text/plain": [
       "<Figure size 432x288 with 1 Axes>"
      ]
     },
     "metadata": {
      "needs_background": "light"
     },
     "output_type": "display_data"
    }
   ],
   "source": [
    "print(f\"{df1['ajcc_pathologic_tumor_stage'].value_counts()},\\nMode is:{df1['ajcc_pathologic_tumor_stage'].mode()},\\n{df1['ajcc_pathologic_tumor_stage'].value_counts().plot.bar()}\")"
   ]
  },
  {
   "cell_type": "markdown",
   "metadata": {},
   "source": [
    "### Dealing  missing value  of column stage\n",
    "Column tumar_stage contains 4202 missing value which is very large so it would be better to make a predicting model.\n",
    "For that I am using linear regression model and taking column stage as dependant column. Now splitting the dataset into two parts where test data will contain those rows of missing value and train data will contain rows of not null value.\n",
    "df_test==> X_test(all dependant columns)+y_test(this will be the final predicted value ,predction is based on Xtest)\n",
    "df_train==>X_train(all dependent column for model training)+y_train(all not null value of column tumor_stage)\n",
    "first model will be fitted with X_train and y_train then prediction is done with X_test after that concatinating y_test with X_test and finally concatinating df_test and df_train we will get df_final dataset."
   ]
  },
  {
   "cell_type": "code",
   "execution_count": 33,
   "metadata": {},
   "outputs": [
    {
     "data": {
      "text/html": [
       "<div>\n",
       "<style scoped>\n",
       "    .dataframe tbody tr th:only-of-type {\n",
       "        vertical-align: middle;\n",
       "    }\n",
       "\n",
       "    .dataframe tbody tr th {\n",
       "        vertical-align: top;\n",
       "    }\n",
       "\n",
       "    .dataframe thead th {\n",
       "        text-align: right;\n",
       "    }\n",
       "</style>\n",
       "<table border=\"1\" class=\"dataframe\">\n",
       "  <thead>\n",
       "    <tr style=\"text-align: right;\">\n",
       "      <th></th>\n",
       "      <th>type</th>\n",
       "      <th>age_at_initial_pathologic_diagnosis</th>\n",
       "      <th>gender</th>\n",
       "      <th>race</th>\n",
       "      <th>ajcc_pathologic_tumor_stage</th>\n",
       "      <th>vital_status</th>\n",
       "    </tr>\n",
       "  </thead>\n",
       "  <tbody>\n",
       "    <tr>\n",
       "      <th>14</th>\n",
       "      <td>CESC</td>\n",
       "      <td>65.0</td>\n",
       "      <td>FEMALE</td>\n",
       "      <td>WHITE</td>\n",
       "      <td>&lt;NA&gt;</td>\n",
       "      <td>Alive</td>\n",
       "    </tr>\n",
       "    <tr>\n",
       "      <th>15</th>\n",
       "      <td>CESC</td>\n",
       "      <td>63.0</td>\n",
       "      <td>FEMALE</td>\n",
       "      <td>ASIAN</td>\n",
       "      <td>&lt;NA&gt;</td>\n",
       "      <td>Alive</td>\n",
       "    </tr>\n",
       "    <tr>\n",
       "      <th>16</th>\n",
       "      <td>CESC</td>\n",
       "      <td>73.0</td>\n",
       "      <td>FEMALE</td>\n",
       "      <td>ASIAN</td>\n",
       "      <td>&lt;NA&gt;</td>\n",
       "      <td>Alive</td>\n",
       "    </tr>\n",
       "    <tr>\n",
       "      <th>17</th>\n",
       "      <td>CESC</td>\n",
       "      <td>58.0</td>\n",
       "      <td>FEMALE</td>\n",
       "      <td>ASIAN</td>\n",
       "      <td>&lt;NA&gt;</td>\n",
       "      <td>Alive</td>\n",
       "    </tr>\n",
       "    <tr>\n",
       "      <th>18</th>\n",
       "      <td>CESC</td>\n",
       "      <td>42.0</td>\n",
       "      <td>FEMALE</td>\n",
       "      <td>WHITE</td>\n",
       "      <td>&lt;NA&gt;</td>\n",
       "      <td>Alive</td>\n",
       "    </tr>\n",
       "    <tr>\n",
       "      <th>...</th>\n",
       "      <td>...</td>\n",
       "      <td>...</td>\n",
       "      <td>...</td>\n",
       "      <td>...</td>\n",
       "      <td>...</td>\n",
       "      <td>...</td>\n",
       "    </tr>\n",
       "    <tr>\n",
       "      <th>11134</th>\n",
       "      <td>LAML</td>\n",
       "      <td>54.0</td>\n",
       "      <td>MALE</td>\n",
       "      <td>BLACK OR AFRICAN AMERICAN</td>\n",
       "      <td>&lt;NA&gt;</td>\n",
       "      <td>Dead</td>\n",
       "    </tr>\n",
       "    <tr>\n",
       "      <th>11135</th>\n",
       "      <td>LAML</td>\n",
       "      <td>25.0</td>\n",
       "      <td>FEMALE</td>\n",
       "      <td>WHITE</td>\n",
       "      <td>&lt;NA&gt;</td>\n",
       "      <td>Dead</td>\n",
       "    </tr>\n",
       "    <tr>\n",
       "      <th>11145</th>\n",
       "      <td>OV</td>\n",
       "      <td>59.0</td>\n",
       "      <td>FEMALE</td>\n",
       "      <td>WHITE</td>\n",
       "      <td>&lt;NA&gt;</td>\n",
       "      <td>Dead</td>\n",
       "    </tr>\n",
       "    <tr>\n",
       "      <th>11151</th>\n",
       "      <td>OV</td>\n",
       "      <td>80.0</td>\n",
       "      <td>FEMALE</td>\n",
       "      <td>ASIAN</td>\n",
       "      <td>&lt;NA&gt;</td>\n",
       "      <td>Dead</td>\n",
       "    </tr>\n",
       "    <tr>\n",
       "      <th>11152</th>\n",
       "      <td>OV</td>\n",
       "      <td>55.0</td>\n",
       "      <td>FEMALE</td>\n",
       "      <td>ASIAN</td>\n",
       "      <td>&lt;NA&gt;</td>\n",
       "      <td>Dead</td>\n",
       "    </tr>\n",
       "  </tbody>\n",
       "</table>\n",
       "<p>4202 rows × 6 columns</p>\n",
       "</div>"
      ],
      "text/plain": [
       "       type  age_at_initial_pathologic_diagnosis  gender  \\\n",
       "14     CESC                                 65.0  FEMALE   \n",
       "15     CESC                                 63.0  FEMALE   \n",
       "16     CESC                                 73.0  FEMALE   \n",
       "17     CESC                                 58.0  FEMALE   \n",
       "18     CESC                                 42.0  FEMALE   \n",
       "...     ...                                  ...     ...   \n",
       "11134  LAML                                 54.0    MALE   \n",
       "11135  LAML                                 25.0  FEMALE   \n",
       "11145    OV                                 59.0  FEMALE   \n",
       "11151    OV                                 80.0  FEMALE   \n",
       "11152    OV                                 55.0  FEMALE   \n",
       "\n",
       "                            race ajcc_pathologic_tumor_stage vital_status  \n",
       "14                         WHITE                        <NA>        Alive  \n",
       "15                         ASIAN                        <NA>        Alive  \n",
       "16                         ASIAN                        <NA>        Alive  \n",
       "17                         ASIAN                        <NA>        Alive  \n",
       "18                         WHITE                        <NA>        Alive  \n",
       "...                          ...                         ...          ...  \n",
       "11134  BLACK OR AFRICAN AMERICAN                        <NA>         Dead  \n",
       "11135                      WHITE                        <NA>         Dead  \n",
       "11145                      WHITE                        <NA>         Dead  \n",
       "11151                      ASIAN                        <NA>         Dead  \n",
       "11152                      ASIAN                        <NA>         Dead  \n",
       "\n",
       "[4202 rows x 6 columns]"
      ]
     },
     "execution_count": 33,
     "metadata": {},
     "output_type": "execute_result"
    }
   ],
   "source": [
    "## Test Data -- Null value in \"stage\"\n",
    "df_test = df1[df1[\"ajcc_pathologic_tumor_stage\"].isnull()]\n",
    "df_test"
   ]
  },
  {
   "cell_type": "code",
   "execution_count": 34,
   "metadata": {},
   "outputs": [
    {
     "data": {
      "text/plain": [
       "(4202, 6)"
      ]
     },
     "execution_count": 34,
     "metadata": {},
     "output_type": "execute_result"
    }
   ],
   "source": [
    "df_test.shape"
   ]
  },
  {
   "cell_type": "code",
   "execution_count": 35,
   "metadata": {},
   "outputs": [
    {
     "data": {
      "text/html": [
       "<div>\n",
       "<style scoped>\n",
       "    .dataframe tbody tr th:only-of-type {\n",
       "        vertical-align: middle;\n",
       "    }\n",
       "\n",
       "    .dataframe tbody tr th {\n",
       "        vertical-align: top;\n",
       "    }\n",
       "\n",
       "    .dataframe thead th {\n",
       "        text-align: right;\n",
       "    }\n",
       "</style>\n",
       "<table border=\"1\" class=\"dataframe\">\n",
       "  <thead>\n",
       "    <tr style=\"text-align: right;\">\n",
       "      <th></th>\n",
       "      <th>type</th>\n",
       "      <th>age_at_initial_pathologic_diagnosis</th>\n",
       "      <th>gender</th>\n",
       "      <th>race</th>\n",
       "      <th>vital_status</th>\n",
       "    </tr>\n",
       "  </thead>\n",
       "  <tbody>\n",
       "    <tr>\n",
       "      <th>14</th>\n",
       "      <td>CESC</td>\n",
       "      <td>65.0</td>\n",
       "      <td>FEMALE</td>\n",
       "      <td>WHITE</td>\n",
       "      <td>Alive</td>\n",
       "    </tr>\n",
       "    <tr>\n",
       "      <th>15</th>\n",
       "      <td>CESC</td>\n",
       "      <td>63.0</td>\n",
       "      <td>FEMALE</td>\n",
       "      <td>ASIAN</td>\n",
       "      <td>Alive</td>\n",
       "    </tr>\n",
       "    <tr>\n",
       "      <th>16</th>\n",
       "      <td>CESC</td>\n",
       "      <td>73.0</td>\n",
       "      <td>FEMALE</td>\n",
       "      <td>ASIAN</td>\n",
       "      <td>Alive</td>\n",
       "    </tr>\n",
       "    <tr>\n",
       "      <th>17</th>\n",
       "      <td>CESC</td>\n",
       "      <td>58.0</td>\n",
       "      <td>FEMALE</td>\n",
       "      <td>ASIAN</td>\n",
       "      <td>Alive</td>\n",
       "    </tr>\n",
       "    <tr>\n",
       "      <th>18</th>\n",
       "      <td>CESC</td>\n",
       "      <td>42.0</td>\n",
       "      <td>FEMALE</td>\n",
       "      <td>WHITE</td>\n",
       "      <td>Alive</td>\n",
       "    </tr>\n",
       "  </tbody>\n",
       "</table>\n",
       "</div>"
      ],
      "text/plain": [
       "    type  age_at_initial_pathologic_diagnosis  gender   race vital_status\n",
       "14  CESC                                 65.0  FEMALE  WHITE        Alive\n",
       "15  CESC                                 63.0  FEMALE  ASIAN        Alive\n",
       "16  CESC                                 73.0  FEMALE  ASIAN        Alive\n",
       "17  CESC                                 58.0  FEMALE  ASIAN        Alive\n",
       "18  CESC                                 42.0  FEMALE  WHITE        Alive"
      ]
     },
     "execution_count": 35,
     "metadata": {},
     "output_type": "execute_result"
    }
   ],
   "source": [
    "X_test=df_test.drop('ajcc_pathologic_tumor_stage',axis=1)\n",
    "X_test.head()"
   ]
  },
  {
   "cell_type": "code",
   "execution_count": 36,
   "metadata": {},
   "outputs": [],
   "source": [
    "#converting all categorical value into numerical value using label encoder\n",
    "from sklearn import preprocessing\n",
    "le = preprocessing.LabelEncoder()\n",
    "for col in X_test.columns:\n",
    "        X_test[col] = le.fit_transform(X_test[col])"
   ]
  },
  {
   "cell_type": "code",
   "execution_count": 37,
   "metadata": {},
   "outputs": [
    {
     "data": {
      "text/html": [
       "<div>\n",
       "<style scoped>\n",
       "    .dataframe tbody tr th:only-of-type {\n",
       "        vertical-align: middle;\n",
       "    }\n",
       "\n",
       "    .dataframe tbody tr th {\n",
       "        vertical-align: top;\n",
       "    }\n",
       "\n",
       "    .dataframe thead th {\n",
       "        text-align: right;\n",
       "    }\n",
       "</style>\n",
       "<table border=\"1\" class=\"dataframe\">\n",
       "  <thead>\n",
       "    <tr style=\"text-align: right;\">\n",
       "      <th></th>\n",
       "      <th>type</th>\n",
       "      <th>age_at_initial_pathologic_diagnosis</th>\n",
       "      <th>gender</th>\n",
       "      <th>race</th>\n",
       "      <th>vital_status</th>\n",
       "    </tr>\n",
       "  </thead>\n",
       "  <tbody>\n",
       "    <tr>\n",
       "      <th>14</th>\n",
       "      <td>3</td>\n",
       "      <td>51</td>\n",
       "      <td>0</td>\n",
       "      <td>4</td>\n",
       "      <td>0</td>\n",
       "    </tr>\n",
       "    <tr>\n",
       "      <th>15</th>\n",
       "      <td>3</td>\n",
       "      <td>49</td>\n",
       "      <td>0</td>\n",
       "      <td>1</td>\n",
       "      <td>0</td>\n",
       "    </tr>\n",
       "    <tr>\n",
       "      <th>16</th>\n",
       "      <td>3</td>\n",
       "      <td>59</td>\n",
       "      <td>0</td>\n",
       "      <td>1</td>\n",
       "      <td>0</td>\n",
       "    </tr>\n",
       "    <tr>\n",
       "      <th>17</th>\n",
       "      <td>3</td>\n",
       "      <td>43</td>\n",
       "      <td>0</td>\n",
       "      <td>1</td>\n",
       "      <td>0</td>\n",
       "    </tr>\n",
       "    <tr>\n",
       "      <th>18</th>\n",
       "      <td>3</td>\n",
       "      <td>27</td>\n",
       "      <td>0</td>\n",
       "      <td>4</td>\n",
       "      <td>0</td>\n",
       "    </tr>\n",
       "  </tbody>\n",
       "</table>\n",
       "</div>"
      ],
      "text/plain": [
       "    type  age_at_initial_pathologic_diagnosis  gender  race  vital_status\n",
       "14     3                                   51       0     4             0\n",
       "15     3                                   49       0     1             0\n",
       "16     3                                   59       0     1             0\n",
       "17     3                                   43       0     1             0\n",
       "18     3                                   27       0     4             0"
      ]
     },
     "execution_count": 37,
     "metadata": {},
     "output_type": "execute_result"
    }
   ],
   "source": [
    "X_test.head()"
   ]
  },
  {
   "cell_type": "code",
   "execution_count": 38,
   "metadata": {},
   "outputs": [],
   "source": [
    "## Train Dataset (\"stage\") column without null\n",
    "df_train = df1.dropna()"
   ]
  },
  {
   "cell_type": "code",
   "execution_count": 39,
   "metadata": {},
   "outputs": [
    {
     "data": {
      "text/plain": [
       "(6958, 6)"
      ]
     },
     "execution_count": 39,
     "metadata": {},
     "output_type": "execute_result"
    }
   ],
   "source": [
    "df_train.shape"
   ]
  },
  {
   "cell_type": "code",
   "execution_count": 40,
   "metadata": {},
   "outputs": [
    {
     "data": {
      "text/html": [
       "<div>\n",
       "<style scoped>\n",
       "    .dataframe tbody tr th:only-of-type {\n",
       "        vertical-align: middle;\n",
       "    }\n",
       "\n",
       "    .dataframe tbody tr th {\n",
       "        vertical-align: top;\n",
       "    }\n",
       "\n",
       "    .dataframe thead th {\n",
       "        text-align: right;\n",
       "    }\n",
       "</style>\n",
       "<table border=\"1\" class=\"dataframe\">\n",
       "  <thead>\n",
       "    <tr style=\"text-align: right;\">\n",
       "      <th></th>\n",
       "      <th>type</th>\n",
       "      <th>age_at_initial_pathologic_diagnosis</th>\n",
       "      <th>gender</th>\n",
       "      <th>race</th>\n",
       "      <th>ajcc_pathologic_tumor_stage</th>\n",
       "      <th>vital_status</th>\n",
       "    </tr>\n",
       "  </thead>\n",
       "  <tbody>\n",
       "    <tr>\n",
       "      <th>0</th>\n",
       "      <td>BLCA</td>\n",
       "      <td>85.0</td>\n",
       "      <td>MALE</td>\n",
       "      <td>ASIAN</td>\n",
       "      <td>Stage II</td>\n",
       "      <td>Alive</td>\n",
       "    </tr>\n",
       "    <tr>\n",
       "      <th>1</th>\n",
       "      <td>BRCA</td>\n",
       "      <td>66.0</td>\n",
       "      <td>FEMALE</td>\n",
       "      <td>ASIAN</td>\n",
       "      <td>Stage IIIB</td>\n",
       "      <td>Alive</td>\n",
       "    </tr>\n",
       "    <tr>\n",
       "      <th>2</th>\n",
       "      <td>BRCA</td>\n",
       "      <td>80.0</td>\n",
       "      <td>FEMALE</td>\n",
       "      <td>ASIAN</td>\n",
       "      <td>Stage IIA</td>\n",
       "      <td>Alive</td>\n",
       "    </tr>\n",
       "    <tr>\n",
       "      <th>3</th>\n",
       "      <td>BRCA</td>\n",
       "      <td>67.0</td>\n",
       "      <td>FEMALE</td>\n",
       "      <td>ASIAN</td>\n",
       "      <td>Stage IIB</td>\n",
       "      <td>Alive</td>\n",
       "    </tr>\n",
       "    <tr>\n",
       "      <th>4</th>\n",
       "      <td>BRCA</td>\n",
       "      <td>66.0</td>\n",
       "      <td>FEMALE</td>\n",
       "      <td>ASIAN</td>\n",
       "      <td>Stage IIA</td>\n",
       "      <td>Alive</td>\n",
       "    </tr>\n",
       "    <tr>\n",
       "      <th>...</th>\n",
       "      <td>...</td>\n",
       "      <td>...</td>\n",
       "      <td>...</td>\n",
       "      <td>...</td>\n",
       "      <td>...</td>\n",
       "      <td>...</td>\n",
       "    </tr>\n",
       "    <tr>\n",
       "      <th>11155</th>\n",
       "      <td>SKCM</td>\n",
       "      <td>54.0</td>\n",
       "      <td>FEMALE</td>\n",
       "      <td>WHITE</td>\n",
       "      <td>Stage 0</td>\n",
       "      <td>Dead</td>\n",
       "    </tr>\n",
       "    <tr>\n",
       "      <th>11156</th>\n",
       "      <td>SKCM</td>\n",
       "      <td>48.0</td>\n",
       "      <td>MALE</td>\n",
       "      <td>WHITE</td>\n",
       "      <td>Stage 0</td>\n",
       "      <td>Dead</td>\n",
       "    </tr>\n",
       "    <tr>\n",
       "      <th>11157</th>\n",
       "      <td>SKCM</td>\n",
       "      <td>59.0</td>\n",
       "      <td>MALE</td>\n",
       "      <td>WHITE</td>\n",
       "      <td>Stage 0</td>\n",
       "      <td>Dead</td>\n",
       "    </tr>\n",
       "    <tr>\n",
       "      <th>11158</th>\n",
       "      <td>SKCM</td>\n",
       "      <td>42.0</td>\n",
       "      <td>MALE</td>\n",
       "      <td>WHITE</td>\n",
       "      <td>Stage 0</td>\n",
       "      <td>Alive</td>\n",
       "    </tr>\n",
       "    <tr>\n",
       "      <th>11159</th>\n",
       "      <td>SKCM</td>\n",
       "      <td>39.0</td>\n",
       "      <td>MALE</td>\n",
       "      <td>WHITE</td>\n",
       "      <td>Stage 0</td>\n",
       "      <td>Dead</td>\n",
       "    </tr>\n",
       "  </tbody>\n",
       "</table>\n",
       "<p>6958 rows × 6 columns</p>\n",
       "</div>"
      ],
      "text/plain": [
       "       type  age_at_initial_pathologic_diagnosis  gender   race  \\\n",
       "0      BLCA                                 85.0    MALE  ASIAN   \n",
       "1      BRCA                                 66.0  FEMALE  ASIAN   \n",
       "2      BRCA                                 80.0  FEMALE  ASIAN   \n",
       "3      BRCA                                 67.0  FEMALE  ASIAN   \n",
       "4      BRCA                                 66.0  FEMALE  ASIAN   \n",
       "...     ...                                  ...     ...    ...   \n",
       "11155  SKCM                                 54.0  FEMALE  WHITE   \n",
       "11156  SKCM                                 48.0    MALE  WHITE   \n",
       "11157  SKCM                                 59.0    MALE  WHITE   \n",
       "11158  SKCM                                 42.0    MALE  WHITE   \n",
       "11159  SKCM                                 39.0    MALE  WHITE   \n",
       "\n",
       "      ajcc_pathologic_tumor_stage vital_status  \n",
       "0                        Stage II        Alive  \n",
       "1                      Stage IIIB        Alive  \n",
       "2                       Stage IIA        Alive  \n",
       "3                       Stage IIB        Alive  \n",
       "4                       Stage IIA        Alive  \n",
       "...                           ...          ...  \n",
       "11155                     Stage 0         Dead  \n",
       "11156                     Stage 0         Dead  \n",
       "11157                     Stage 0         Dead  \n",
       "11158                     Stage 0        Alive  \n",
       "11159                     Stage 0         Dead  \n",
       "\n",
       "[6958 rows x 6 columns]"
      ]
     },
     "execution_count": 40,
     "metadata": {},
     "output_type": "execute_result"
    }
   ],
   "source": [
    "df_train"
   ]
  },
  {
   "cell_type": "code",
   "execution_count": 41,
   "metadata": {},
   "outputs": [],
   "source": [
    "#df_train['ajcc_pathologic_tumor_stage'].value_counts()"
   ]
  },
  {
   "cell_type": "code",
   "execution_count": 42,
   "metadata": {},
   "outputs": [
    {
     "name": "stderr",
     "output_type": "stream",
     "text": [
      "<ipython-input-42-2c99caf4b85a>:5: SettingWithCopyWarning: \n",
      "A value is trying to be set on a copy of a slice from a DataFrame.\n",
      "Try using .loc[row_indexer,col_indexer] = value instead\n",
      "\n",
      "See the caveats in the documentation: https://pandas.pydata.org/pandas-docs/stable/user_guide/indexing.html#returning-a-view-versus-a-copy\n",
      "  df_train[col] = le.fit_transform(df_train[col])\n"
     ]
    }
   ],
   "source": [
    "#converting train data into numerical value\n",
    "from sklearn import preprocessing\n",
    "le = preprocessing.LabelEncoder()\n",
    "for col in df_train.columns:\n",
    "        df_train[col] = le.fit_transform(df_train[col])"
   ]
  },
  {
   "cell_type": "code",
   "execution_count": 43,
   "metadata": {},
   "outputs": [
    {
     "data": {
      "text/html": [
       "<div>\n",
       "<style scoped>\n",
       "    .dataframe tbody tr th:only-of-type {\n",
       "        vertical-align: middle;\n",
       "    }\n",
       "\n",
       "    .dataframe tbody tr th {\n",
       "        vertical-align: top;\n",
       "    }\n",
       "\n",
       "    .dataframe thead th {\n",
       "        text-align: right;\n",
       "    }\n",
       "</style>\n",
       "<table border=\"1\" class=\"dataframe\">\n",
       "  <thead>\n",
       "    <tr style=\"text-align: right;\">\n",
       "      <th></th>\n",
       "      <th>type</th>\n",
       "      <th>age_at_initial_pathologic_diagnosis</th>\n",
       "      <th>gender</th>\n",
       "      <th>race</th>\n",
       "      <th>ajcc_pathologic_tumor_stage</th>\n",
       "      <th>vital_status</th>\n",
       "    </tr>\n",
       "  </thead>\n",
       "  <tbody>\n",
       "    <tr>\n",
       "      <th>0</th>\n",
       "      <td>1</td>\n",
       "      <td>74</td>\n",
       "      <td>1</td>\n",
       "      <td>1</td>\n",
       "      <td>6</td>\n",
       "      <td>0</td>\n",
       "    </tr>\n",
       "    <tr>\n",
       "      <th>1</th>\n",
       "      <td>2</td>\n",
       "      <td>55</td>\n",
       "      <td>0</td>\n",
       "      <td>1</td>\n",
       "      <td>12</td>\n",
       "      <td>0</td>\n",
       "    </tr>\n",
       "    <tr>\n",
       "      <th>2</th>\n",
       "      <td>2</td>\n",
       "      <td>69</td>\n",
       "      <td>0</td>\n",
       "      <td>1</td>\n",
       "      <td>7</td>\n",
       "      <td>0</td>\n",
       "    </tr>\n",
       "    <tr>\n",
       "      <th>3</th>\n",
       "      <td>2</td>\n",
       "      <td>56</td>\n",
       "      <td>0</td>\n",
       "      <td>1</td>\n",
       "      <td>8</td>\n",
       "      <td>0</td>\n",
       "    </tr>\n",
       "    <tr>\n",
       "      <th>4</th>\n",
       "      <td>2</td>\n",
       "      <td>55</td>\n",
       "      <td>0</td>\n",
       "      <td>1</td>\n",
       "      <td>7</td>\n",
       "      <td>0</td>\n",
       "    </tr>\n",
       "    <tr>\n",
       "      <th>...</th>\n",
       "      <td>...</td>\n",
       "      <td>...</td>\n",
       "      <td>...</td>\n",
       "      <td>...</td>\n",
       "      <td>...</td>\n",
       "      <td>...</td>\n",
       "    </tr>\n",
       "    <tr>\n",
       "      <th>11155</th>\n",
       "      <td>16</td>\n",
       "      <td>40</td>\n",
       "      <td>0</td>\n",
       "      <td>4</td>\n",
       "      <td>2</td>\n",
       "      <td>1</td>\n",
       "    </tr>\n",
       "    <tr>\n",
       "      <th>11156</th>\n",
       "      <td>16</td>\n",
       "      <td>34</td>\n",
       "      <td>1</td>\n",
       "      <td>4</td>\n",
       "      <td>2</td>\n",
       "      <td>1</td>\n",
       "    </tr>\n",
       "    <tr>\n",
       "      <th>11157</th>\n",
       "      <td>16</td>\n",
       "      <td>47</td>\n",
       "      <td>1</td>\n",
       "      <td>4</td>\n",
       "      <td>2</td>\n",
       "      <td>1</td>\n",
       "    </tr>\n",
       "    <tr>\n",
       "      <th>11158</th>\n",
       "      <td>16</td>\n",
       "      <td>28</td>\n",
       "      <td>1</td>\n",
       "      <td>4</td>\n",
       "      <td>2</td>\n",
       "      <td>0</td>\n",
       "    </tr>\n",
       "    <tr>\n",
       "      <th>11159</th>\n",
       "      <td>16</td>\n",
       "      <td>25</td>\n",
       "      <td>1</td>\n",
       "      <td>4</td>\n",
       "      <td>2</td>\n",
       "      <td>1</td>\n",
       "    </tr>\n",
       "  </tbody>\n",
       "</table>\n",
       "<p>6958 rows × 6 columns</p>\n",
       "</div>"
      ],
      "text/plain": [
       "       type  age_at_initial_pathologic_diagnosis  gender  race  \\\n",
       "0         1                                   74       1     1   \n",
       "1         2                                   55       0     1   \n",
       "2         2                                   69       0     1   \n",
       "3         2                                   56       0     1   \n",
       "4         2                                   55       0     1   \n",
       "...     ...                                  ...     ...   ...   \n",
       "11155    16                                   40       0     4   \n",
       "11156    16                                   34       1     4   \n",
       "11157    16                                   47       1     4   \n",
       "11158    16                                   28       1     4   \n",
       "11159    16                                   25       1     4   \n",
       "\n",
       "       ajcc_pathologic_tumor_stage  vital_status  \n",
       "0                                6             0  \n",
       "1                               12             0  \n",
       "2                                7             0  \n",
       "3                                8             0  \n",
       "4                                7             0  \n",
       "...                            ...           ...  \n",
       "11155                            2             1  \n",
       "11156                            2             1  \n",
       "11157                            2             1  \n",
       "11158                            2             0  \n",
       "11159                            2             1  \n",
       "\n",
       "[6958 rows x 6 columns]"
      ]
     },
     "execution_count": 43,
     "metadata": {},
     "output_type": "execute_result"
    }
   ],
   "source": [
    "df_train"
   ]
  },
  {
   "cell_type": "code",
   "execution_count": 44,
   "metadata": {},
   "outputs": [
    {
     "data": {
      "text/html": [
       "<div>\n",
       "<style scoped>\n",
       "    .dataframe tbody tr th:only-of-type {\n",
       "        vertical-align: middle;\n",
       "    }\n",
       "\n",
       "    .dataframe tbody tr th {\n",
       "        vertical-align: top;\n",
       "    }\n",
       "\n",
       "    .dataframe thead th {\n",
       "        text-align: right;\n",
       "    }\n",
       "</style>\n",
       "<table border=\"1\" class=\"dataframe\">\n",
       "  <thead>\n",
       "    <tr style=\"text-align: right;\">\n",
       "      <th></th>\n",
       "      <th>type</th>\n",
       "      <th>age_at_initial_pathologic_diagnosis</th>\n",
       "      <th>gender</th>\n",
       "      <th>race</th>\n",
       "      <th>vital_status</th>\n",
       "    </tr>\n",
       "  </thead>\n",
       "  <tbody>\n",
       "    <tr>\n",
       "      <th>0</th>\n",
       "      <td>1</td>\n",
       "      <td>74</td>\n",
       "      <td>1</td>\n",
       "      <td>1</td>\n",
       "      <td>0</td>\n",
       "    </tr>\n",
       "    <tr>\n",
       "      <th>1</th>\n",
       "      <td>2</td>\n",
       "      <td>55</td>\n",
       "      <td>0</td>\n",
       "      <td>1</td>\n",
       "      <td>0</td>\n",
       "    </tr>\n",
       "    <tr>\n",
       "      <th>2</th>\n",
       "      <td>2</td>\n",
       "      <td>69</td>\n",
       "      <td>0</td>\n",
       "      <td>1</td>\n",
       "      <td>0</td>\n",
       "    </tr>\n",
       "    <tr>\n",
       "      <th>3</th>\n",
       "      <td>2</td>\n",
       "      <td>56</td>\n",
       "      <td>0</td>\n",
       "      <td>1</td>\n",
       "      <td>0</td>\n",
       "    </tr>\n",
       "    <tr>\n",
       "      <th>4</th>\n",
       "      <td>2</td>\n",
       "      <td>55</td>\n",
       "      <td>0</td>\n",
       "      <td>1</td>\n",
       "      <td>0</td>\n",
       "    </tr>\n",
       "  </tbody>\n",
       "</table>\n",
       "</div>"
      ],
      "text/plain": [
       "   type  age_at_initial_pathologic_diagnosis  gender  race  vital_status\n",
       "0     1                                   74       1     1             0\n",
       "1     2                                   55       0     1             0\n",
       "2     2                                   69       0     1             0\n",
       "3     2                                   56       0     1             0\n",
       "4     2                                   55       0     1             0"
      ]
     },
     "execution_count": 44,
     "metadata": {},
     "output_type": "execute_result"
    }
   ],
   "source": [
    "X_train = df_train.drop(\"ajcc_pathologic_tumor_stage\",axis=1) \n",
    "X_train.head()"
   ]
  },
  {
   "cell_type": "code",
   "execution_count": 45,
   "metadata": {},
   "outputs": [
    {
     "data": {
      "text/plain": [
       "(6958, 5)"
      ]
     },
     "execution_count": 45,
     "metadata": {},
     "output_type": "execute_result"
    }
   ],
   "source": [
    "X_train.shape"
   ]
  },
  {
   "cell_type": "code",
   "execution_count": 46,
   "metadata": {},
   "outputs": [
    {
     "data": {
      "text/plain": [
       "0     6\n",
       "1    12\n",
       "2     7\n",
       "3     8\n",
       "4     7\n",
       "Name: ajcc_pathologic_tumor_stage, dtype: int32"
      ]
     },
     "execution_count": 46,
     "metadata": {},
     "output_type": "execute_result"
    }
   ],
   "source": [
    "y_train = df_train[\"ajcc_pathologic_tumor_stage\"] # Label\n",
    "y_train.head()"
   ]
  },
  {
   "cell_type": "code",
   "execution_count": 47,
   "metadata": {},
   "outputs": [],
   "source": [
    "## We will use Linear Regression ML model to predict the null value\n",
    "from sklearn.linear_model import LinearRegression"
   ]
  },
  {
   "cell_type": "code",
   "execution_count": 48,
   "metadata": {},
   "outputs": [
    {
     "data": {
      "text/plain": [
       "LinearRegression()"
      ]
     },
     "execution_count": 48,
     "metadata": {},
     "output_type": "execute_result"
    }
   ],
   "source": [
    "## Fit the model\n",
    "LR_model = LinearRegression()\n",
    "LR_model.fit(X_train,y_train)"
   ]
  },
  {
   "cell_type": "code",
   "execution_count": 49,
   "metadata": {},
   "outputs": [],
   "source": [
    "## Lets Predict the y_test, It means \"tumor_stage\" values corresponding to those rows where \"tumor_stage\" has null values.\n",
    "y_pred = LR_model.predict(X_test)"
   ]
  },
  {
   "cell_type": "code",
   "execution_count": 50,
   "metadata": {},
   "outputs": [
    {
     "name": "stdout",
     "output_type": "stream",
     "text": [
      "(4202,)\n",
      "<class 'numpy.ndarray'>\n"
     ]
    }
   ],
   "source": [
    "print(y_pred.shape)\n",
    "print(type(y_pred))"
   ]
  },
  {
   "cell_type": "code",
   "execution_count": 51,
   "metadata": {},
   "outputs": [
    {
     "data": {
      "text/html": [
       "<div>\n",
       "<style scoped>\n",
       "    .dataframe tbody tr th:only-of-type {\n",
       "        vertical-align: middle;\n",
       "    }\n",
       "\n",
       "    .dataframe tbody tr th {\n",
       "        vertical-align: top;\n",
       "    }\n",
       "\n",
       "    .dataframe thead th {\n",
       "        text-align: right;\n",
       "    }\n",
       "</style>\n",
       "<table border=\"1\" class=\"dataframe\">\n",
       "  <thead>\n",
       "    <tr style=\"text-align: right;\">\n",
       "      <th></th>\n",
       "      <th>type</th>\n",
       "      <th>age_at_initial_pathologic_diagnosis</th>\n",
       "      <th>gender</th>\n",
       "      <th>race</th>\n",
       "      <th>vital_status</th>\n",
       "    </tr>\n",
       "  </thead>\n",
       "  <tbody>\n",
       "    <tr>\n",
       "      <th>14</th>\n",
       "      <td>3</td>\n",
       "      <td>51</td>\n",
       "      <td>0</td>\n",
       "      <td>4</td>\n",
       "      <td>0</td>\n",
       "    </tr>\n",
       "    <tr>\n",
       "      <th>15</th>\n",
       "      <td>3</td>\n",
       "      <td>49</td>\n",
       "      <td>0</td>\n",
       "      <td>1</td>\n",
       "      <td>0</td>\n",
       "    </tr>\n",
       "    <tr>\n",
       "      <th>16</th>\n",
       "      <td>3</td>\n",
       "      <td>59</td>\n",
       "      <td>0</td>\n",
       "      <td>1</td>\n",
       "      <td>0</td>\n",
       "    </tr>\n",
       "    <tr>\n",
       "      <th>17</th>\n",
       "      <td>3</td>\n",
       "      <td>43</td>\n",
       "      <td>0</td>\n",
       "      <td>1</td>\n",
       "      <td>0</td>\n",
       "    </tr>\n",
       "    <tr>\n",
       "      <th>18</th>\n",
       "      <td>3</td>\n",
       "      <td>27</td>\n",
       "      <td>0</td>\n",
       "      <td>4</td>\n",
       "      <td>0</td>\n",
       "    </tr>\n",
       "    <tr>\n",
       "      <th>...</th>\n",
       "      <td>...</td>\n",
       "      <td>...</td>\n",
       "      <td>...</td>\n",
       "      <td>...</td>\n",
       "      <td>...</td>\n",
       "    </tr>\n",
       "    <tr>\n",
       "      <th>11134</th>\n",
       "      <td>11</td>\n",
       "      <td>39</td>\n",
       "      <td>1</td>\n",
       "      <td>2</td>\n",
       "      <td>1</td>\n",
       "    </tr>\n",
       "    <tr>\n",
       "      <th>11135</th>\n",
       "      <td>11</td>\n",
       "      <td>10</td>\n",
       "      <td>0</td>\n",
       "      <td>4</td>\n",
       "      <td>1</td>\n",
       "    </tr>\n",
       "    <tr>\n",
       "      <th>11145</th>\n",
       "      <td>16</td>\n",
       "      <td>44</td>\n",
       "      <td>0</td>\n",
       "      <td>4</td>\n",
       "      <td>1</td>\n",
       "    </tr>\n",
       "    <tr>\n",
       "      <th>11151</th>\n",
       "      <td>16</td>\n",
       "      <td>66</td>\n",
       "      <td>0</td>\n",
       "      <td>1</td>\n",
       "      <td>1</td>\n",
       "    </tr>\n",
       "    <tr>\n",
       "      <th>11152</th>\n",
       "      <td>16</td>\n",
       "      <td>40</td>\n",
       "      <td>0</td>\n",
       "      <td>1</td>\n",
       "      <td>1</td>\n",
       "    </tr>\n",
       "  </tbody>\n",
       "</table>\n",
       "<p>4202 rows × 5 columns</p>\n",
       "</div>"
      ],
      "text/plain": [
       "       type  age_at_initial_pathologic_diagnosis  gender  race  vital_status\n",
       "14        3                                   51       0     4             0\n",
       "15        3                                   49       0     1             0\n",
       "16        3                                   59       0     1             0\n",
       "17        3                                   43       0     1             0\n",
       "18        3                                   27       0     4             0\n",
       "...     ...                                  ...     ...   ...           ...\n",
       "11134    11                                   39       1     2             1\n",
       "11135    11                                   10       0     4             1\n",
       "11145    16                                   44       0     4             1\n",
       "11151    16                                   66       0     1             1\n",
       "11152    16                                   40       0     1             1\n",
       "\n",
       "[4202 rows x 5 columns]"
      ]
     },
     "execution_count": 51,
     "metadata": {},
     "output_type": "execute_result"
    }
   ],
   "source": [
    "X_test"
   ]
  },
  {
   "cell_type": "code",
   "execution_count": 52,
   "metadata": {},
   "outputs": [
    {
     "data": {
      "text/plain": [
       "array([7.78012833, 7.34056443, 7.47585865, ..., 8.59139286, 8.47653509,\n",
       "       8.12477012])"
      ]
     },
     "execution_count": 52,
     "metadata": {},
     "output_type": "execute_result"
    }
   ],
   "source": [
    "y_pred"
   ]
  },
  {
   "cell_type": "code",
   "execution_count": 53,
   "metadata": {},
   "outputs": [],
   "source": [
    "X_test[\"ajcc_pathologic_tumor_stage\"] = y_pred"
   ]
  },
  {
   "cell_type": "code",
   "execution_count": 54,
   "metadata": {},
   "outputs": [
    {
     "data": {
      "text/html": [
       "<div>\n",
       "<style scoped>\n",
       "    .dataframe tbody tr th:only-of-type {\n",
       "        vertical-align: middle;\n",
       "    }\n",
       "\n",
       "    .dataframe tbody tr th {\n",
       "        vertical-align: top;\n",
       "    }\n",
       "\n",
       "    .dataframe thead th {\n",
       "        text-align: right;\n",
       "    }\n",
       "</style>\n",
       "<table border=\"1\" class=\"dataframe\">\n",
       "  <thead>\n",
       "    <tr style=\"text-align: right;\">\n",
       "      <th></th>\n",
       "      <th>type</th>\n",
       "      <th>age_at_initial_pathologic_diagnosis</th>\n",
       "      <th>gender</th>\n",
       "      <th>race</th>\n",
       "      <th>vital_status</th>\n",
       "      <th>ajcc_pathologic_tumor_stage</th>\n",
       "    </tr>\n",
       "  </thead>\n",
       "  <tbody>\n",
       "    <tr>\n",
       "      <th>14</th>\n",
       "      <td>3</td>\n",
       "      <td>51</td>\n",
       "      <td>0</td>\n",
       "      <td>4</td>\n",
       "      <td>0</td>\n",
       "      <td>7.780128</td>\n",
       "    </tr>\n",
       "    <tr>\n",
       "      <th>15</th>\n",
       "      <td>3</td>\n",
       "      <td>49</td>\n",
       "      <td>0</td>\n",
       "      <td>1</td>\n",
       "      <td>0</td>\n",
       "      <td>7.340564</td>\n",
       "    </tr>\n",
       "    <tr>\n",
       "      <th>16</th>\n",
       "      <td>3</td>\n",
       "      <td>59</td>\n",
       "      <td>0</td>\n",
       "      <td>1</td>\n",
       "      <td>0</td>\n",
       "      <td>7.475859</td>\n",
       "    </tr>\n",
       "    <tr>\n",
       "      <th>17</th>\n",
       "      <td>3</td>\n",
       "      <td>43</td>\n",
       "      <td>0</td>\n",
       "      <td>1</td>\n",
       "      <td>0</td>\n",
       "      <td>7.259388</td>\n",
       "    </tr>\n",
       "    <tr>\n",
       "      <th>18</th>\n",
       "      <td>3</td>\n",
       "      <td>27</td>\n",
       "      <td>0</td>\n",
       "      <td>4</td>\n",
       "      <td>0</td>\n",
       "      <td>7.455422</td>\n",
       "    </tr>\n",
       "    <tr>\n",
       "      <th>...</th>\n",
       "      <td>...</td>\n",
       "      <td>...</td>\n",
       "      <td>...</td>\n",
       "      <td>...</td>\n",
       "      <td>...</td>\n",
       "      <td>...</td>\n",
       "    </tr>\n",
       "    <tr>\n",
       "      <th>11134</th>\n",
       "      <td>11</td>\n",
       "      <td>39</td>\n",
       "      <td>1</td>\n",
       "      <td>2</td>\n",
       "      <td>1</td>\n",
       "      <td>8.929781</td>\n",
       "    </tr>\n",
       "    <tr>\n",
       "      <th>11135</th>\n",
       "      <td>11</td>\n",
       "      <td>10</td>\n",
       "      <td>0</td>\n",
       "      <td>4</td>\n",
       "      <td>1</td>\n",
       "      <td>8.552509</td>\n",
       "    </tr>\n",
       "    <tr>\n",
       "      <th>11145</th>\n",
       "      <td>16</td>\n",
       "      <td>44</td>\n",
       "      <td>0</td>\n",
       "      <td>4</td>\n",
       "      <td>1</td>\n",
       "      <td>8.591393</td>\n",
       "    </tr>\n",
       "    <tr>\n",
       "      <th>11151</th>\n",
       "      <td>16</td>\n",
       "      <td>66</td>\n",
       "      <td>0</td>\n",
       "      <td>1</td>\n",
       "      <td>1</td>\n",
       "      <td>8.476535</td>\n",
       "    </tr>\n",
       "    <tr>\n",
       "      <th>11152</th>\n",
       "      <td>16</td>\n",
       "      <td>40</td>\n",
       "      <td>0</td>\n",
       "      <td>1</td>\n",
       "      <td>1</td>\n",
       "      <td>8.124770</td>\n",
       "    </tr>\n",
       "  </tbody>\n",
       "</table>\n",
       "<p>4202 rows × 6 columns</p>\n",
       "</div>"
      ],
      "text/plain": [
       "       type  age_at_initial_pathologic_diagnosis  gender  race  vital_status  \\\n",
       "14        3                                   51       0     4             0   \n",
       "15        3                                   49       0     1             0   \n",
       "16        3                                   59       0     1             0   \n",
       "17        3                                   43       0     1             0   \n",
       "18        3                                   27       0     4             0   \n",
       "...     ...                                  ...     ...   ...           ...   \n",
       "11134    11                                   39       1     2             1   \n",
       "11135    11                                   10       0     4             1   \n",
       "11145    16                                   44       0     4             1   \n",
       "11151    16                                   66       0     1             1   \n",
       "11152    16                                   40       0     1             1   \n",
       "\n",
       "       ajcc_pathologic_tumor_stage  \n",
       "14                        7.780128  \n",
       "15                        7.340564  \n",
       "16                        7.475859  \n",
       "17                        7.259388  \n",
       "18                        7.455422  \n",
       "...                            ...  \n",
       "11134                     8.929781  \n",
       "11135                     8.552509  \n",
       "11145                     8.591393  \n",
       "11151                     8.476535  \n",
       "11152                     8.124770  \n",
       "\n",
       "[4202 rows x 6 columns]"
      ]
     },
     "execution_count": 54,
     "metadata": {},
     "output_type": "execute_result"
    }
   ],
   "source": [
    "X_test"
   ]
  },
  {
   "cell_type": "code",
   "execution_count": 55,
   "metadata": {},
   "outputs": [],
   "source": [
    "df2 = pd.concat([df_train,X_test])"
   ]
  },
  {
   "cell_type": "code",
   "execution_count": 56,
   "metadata": {},
   "outputs": [
    {
     "data": {
      "text/plain": [
       "(11160, 6)"
      ]
     },
     "execution_count": 56,
     "metadata": {},
     "output_type": "execute_result"
    }
   ],
   "source": [
    "df2.shape"
   ]
  },
  {
   "cell_type": "code",
   "execution_count": 57,
   "metadata": {},
   "outputs": [
    {
     "data": {
      "text/html": [
       "<div>\n",
       "<style scoped>\n",
       "    .dataframe tbody tr th:only-of-type {\n",
       "        vertical-align: middle;\n",
       "    }\n",
       "\n",
       "    .dataframe tbody tr th {\n",
       "        vertical-align: top;\n",
       "    }\n",
       "\n",
       "    .dataframe thead th {\n",
       "        text-align: right;\n",
       "    }\n",
       "</style>\n",
       "<table border=\"1\" class=\"dataframe\">\n",
       "  <thead>\n",
       "    <tr style=\"text-align: right;\">\n",
       "      <th></th>\n",
       "      <th>type</th>\n",
       "      <th>age_at_initial_pathologic_diagnosis</th>\n",
       "      <th>gender</th>\n",
       "      <th>race</th>\n",
       "      <th>ajcc_pathologic_tumor_stage</th>\n",
       "      <th>vital_status</th>\n",
       "    </tr>\n",
       "  </thead>\n",
       "  <tbody>\n",
       "    <tr>\n",
       "      <th>0</th>\n",
       "      <td>1</td>\n",
       "      <td>74</td>\n",
       "      <td>1</td>\n",
       "      <td>1</td>\n",
       "      <td>6.000000</td>\n",
       "      <td>0</td>\n",
       "    </tr>\n",
       "    <tr>\n",
       "      <th>1</th>\n",
       "      <td>2</td>\n",
       "      <td>55</td>\n",
       "      <td>0</td>\n",
       "      <td>1</td>\n",
       "      <td>12.000000</td>\n",
       "      <td>0</td>\n",
       "    </tr>\n",
       "    <tr>\n",
       "      <th>2</th>\n",
       "      <td>2</td>\n",
       "      <td>69</td>\n",
       "      <td>0</td>\n",
       "      <td>1</td>\n",
       "      <td>7.000000</td>\n",
       "      <td>0</td>\n",
       "    </tr>\n",
       "    <tr>\n",
       "      <th>3</th>\n",
       "      <td>2</td>\n",
       "      <td>56</td>\n",
       "      <td>0</td>\n",
       "      <td>1</td>\n",
       "      <td>8.000000</td>\n",
       "      <td>0</td>\n",
       "    </tr>\n",
       "    <tr>\n",
       "      <th>4</th>\n",
       "      <td>2</td>\n",
       "      <td>55</td>\n",
       "      <td>0</td>\n",
       "      <td>1</td>\n",
       "      <td>7.000000</td>\n",
       "      <td>0</td>\n",
       "    </tr>\n",
       "    <tr>\n",
       "      <th>...</th>\n",
       "      <td>...</td>\n",
       "      <td>...</td>\n",
       "      <td>...</td>\n",
       "      <td>...</td>\n",
       "      <td>...</td>\n",
       "      <td>...</td>\n",
       "    </tr>\n",
       "    <tr>\n",
       "      <th>11134</th>\n",
       "      <td>11</td>\n",
       "      <td>39</td>\n",
       "      <td>1</td>\n",
       "      <td>2</td>\n",
       "      <td>8.929781</td>\n",
       "      <td>1</td>\n",
       "    </tr>\n",
       "    <tr>\n",
       "      <th>11135</th>\n",
       "      <td>11</td>\n",
       "      <td>10</td>\n",
       "      <td>0</td>\n",
       "      <td>4</td>\n",
       "      <td>8.552509</td>\n",
       "      <td>1</td>\n",
       "    </tr>\n",
       "    <tr>\n",
       "      <th>11145</th>\n",
       "      <td>16</td>\n",
       "      <td>44</td>\n",
       "      <td>0</td>\n",
       "      <td>4</td>\n",
       "      <td>8.591393</td>\n",
       "      <td>1</td>\n",
       "    </tr>\n",
       "    <tr>\n",
       "      <th>11151</th>\n",
       "      <td>16</td>\n",
       "      <td>66</td>\n",
       "      <td>0</td>\n",
       "      <td>1</td>\n",
       "      <td>8.476535</td>\n",
       "      <td>1</td>\n",
       "    </tr>\n",
       "    <tr>\n",
       "      <th>11152</th>\n",
       "      <td>16</td>\n",
       "      <td>40</td>\n",
       "      <td>0</td>\n",
       "      <td>1</td>\n",
       "      <td>8.124770</td>\n",
       "      <td>1</td>\n",
       "    </tr>\n",
       "  </tbody>\n",
       "</table>\n",
       "<p>11160 rows × 6 columns</p>\n",
       "</div>"
      ],
      "text/plain": [
       "       type  age_at_initial_pathologic_diagnosis  gender  race  \\\n",
       "0         1                                   74       1     1   \n",
       "1         2                                   55       0     1   \n",
       "2         2                                   69       0     1   \n",
       "3         2                                   56       0     1   \n",
       "4         2                                   55       0     1   \n",
       "...     ...                                  ...     ...   ...   \n",
       "11134    11                                   39       1     2   \n",
       "11135    11                                   10       0     4   \n",
       "11145    16                                   44       0     4   \n",
       "11151    16                                   66       0     1   \n",
       "11152    16                                   40       0     1   \n",
       "\n",
       "       ajcc_pathologic_tumor_stage  vital_status  \n",
       "0                         6.000000             0  \n",
       "1                        12.000000             0  \n",
       "2                         7.000000             0  \n",
       "3                         8.000000             0  \n",
       "4                         7.000000             0  \n",
       "...                            ...           ...  \n",
       "11134                     8.929781             1  \n",
       "11135                     8.552509             1  \n",
       "11145                     8.591393             1  \n",
       "11151                     8.476535             1  \n",
       "11152                     8.124770             1  \n",
       "\n",
       "[11160 rows x 6 columns]"
      ]
     },
     "execution_count": 57,
     "metadata": {},
     "output_type": "execute_result"
    }
   ],
   "source": [
    "df2"
   ]
  },
  {
   "cell_type": "code",
   "execution_count": 58,
   "metadata": {},
   "outputs": [],
   "source": [
    "df2.sort_index(inplace=True)"
   ]
  },
  {
   "cell_type": "code",
   "execution_count": 59,
   "metadata": {},
   "outputs": [
    {
     "data": {
      "text/html": [
       "<div>\n",
       "<style scoped>\n",
       "    .dataframe tbody tr th:only-of-type {\n",
       "        vertical-align: middle;\n",
       "    }\n",
       "\n",
       "    .dataframe tbody tr th {\n",
       "        vertical-align: top;\n",
       "    }\n",
       "\n",
       "    .dataframe thead th {\n",
       "        text-align: right;\n",
       "    }\n",
       "</style>\n",
       "<table border=\"1\" class=\"dataframe\">\n",
       "  <thead>\n",
       "    <tr style=\"text-align: right;\">\n",
       "      <th></th>\n",
       "      <th>type</th>\n",
       "      <th>age_at_initial_pathologic_diagnosis</th>\n",
       "      <th>gender</th>\n",
       "      <th>race</th>\n",
       "      <th>ajcc_pathologic_tumor_stage</th>\n",
       "      <th>vital_status</th>\n",
       "    </tr>\n",
       "  </thead>\n",
       "  <tbody>\n",
       "    <tr>\n",
       "      <th>0</th>\n",
       "      <td>1</td>\n",
       "      <td>74</td>\n",
       "      <td>1</td>\n",
       "      <td>1</td>\n",
       "      <td>6.0</td>\n",
       "      <td>0</td>\n",
       "    </tr>\n",
       "    <tr>\n",
       "      <th>1</th>\n",
       "      <td>2</td>\n",
       "      <td>55</td>\n",
       "      <td>0</td>\n",
       "      <td>1</td>\n",
       "      <td>12.0</td>\n",
       "      <td>0</td>\n",
       "    </tr>\n",
       "    <tr>\n",
       "      <th>2</th>\n",
       "      <td>2</td>\n",
       "      <td>69</td>\n",
       "      <td>0</td>\n",
       "      <td>1</td>\n",
       "      <td>7.0</td>\n",
       "      <td>0</td>\n",
       "    </tr>\n",
       "    <tr>\n",
       "      <th>3</th>\n",
       "      <td>2</td>\n",
       "      <td>56</td>\n",
       "      <td>0</td>\n",
       "      <td>1</td>\n",
       "      <td>8.0</td>\n",
       "      <td>0</td>\n",
       "    </tr>\n",
       "    <tr>\n",
       "      <th>4</th>\n",
       "      <td>2</td>\n",
       "      <td>55</td>\n",
       "      <td>0</td>\n",
       "      <td>1</td>\n",
       "      <td>7.0</td>\n",
       "      <td>0</td>\n",
       "    </tr>\n",
       "    <tr>\n",
       "      <th>...</th>\n",
       "      <td>...</td>\n",
       "      <td>...</td>\n",
       "      <td>...</td>\n",
       "      <td>...</td>\n",
       "      <td>...</td>\n",
       "      <td>...</td>\n",
       "    </tr>\n",
       "    <tr>\n",
       "      <th>11155</th>\n",
       "      <td>16</td>\n",
       "      <td>40</td>\n",
       "      <td>0</td>\n",
       "      <td>4</td>\n",
       "      <td>2.0</td>\n",
       "      <td>1</td>\n",
       "    </tr>\n",
       "    <tr>\n",
       "      <th>11156</th>\n",
       "      <td>16</td>\n",
       "      <td>34</td>\n",
       "      <td>1</td>\n",
       "      <td>4</td>\n",
       "      <td>2.0</td>\n",
       "      <td>1</td>\n",
       "    </tr>\n",
       "    <tr>\n",
       "      <th>11157</th>\n",
       "      <td>16</td>\n",
       "      <td>47</td>\n",
       "      <td>1</td>\n",
       "      <td>4</td>\n",
       "      <td>2.0</td>\n",
       "      <td>1</td>\n",
       "    </tr>\n",
       "    <tr>\n",
       "      <th>11158</th>\n",
       "      <td>16</td>\n",
       "      <td>28</td>\n",
       "      <td>1</td>\n",
       "      <td>4</td>\n",
       "      <td>2.0</td>\n",
       "      <td>0</td>\n",
       "    </tr>\n",
       "    <tr>\n",
       "      <th>11159</th>\n",
       "      <td>16</td>\n",
       "      <td>25</td>\n",
       "      <td>1</td>\n",
       "      <td>4</td>\n",
       "      <td>2.0</td>\n",
       "      <td>1</td>\n",
       "    </tr>\n",
       "  </tbody>\n",
       "</table>\n",
       "<p>11160 rows × 6 columns</p>\n",
       "</div>"
      ],
      "text/plain": [
       "       type  age_at_initial_pathologic_diagnosis  gender  race  \\\n",
       "0         1                                   74       1     1   \n",
       "1         2                                   55       0     1   \n",
       "2         2                                   69       0     1   \n",
       "3         2                                   56       0     1   \n",
       "4         2                                   55       0     1   \n",
       "...     ...                                  ...     ...   ...   \n",
       "11155    16                                   40       0     4   \n",
       "11156    16                                   34       1     4   \n",
       "11157    16                                   47       1     4   \n",
       "11158    16                                   28       1     4   \n",
       "11159    16                                   25       1     4   \n",
       "\n",
       "       ajcc_pathologic_tumor_stage  vital_status  \n",
       "0                              6.0             0  \n",
       "1                             12.0             0  \n",
       "2                              7.0             0  \n",
       "3                              8.0             0  \n",
       "4                              7.0             0  \n",
       "...                            ...           ...  \n",
       "11155                          2.0             1  \n",
       "11156                          2.0             1  \n",
       "11157                          2.0             1  \n",
       "11158                          2.0             0  \n",
       "11159                          2.0             1  \n",
       "\n",
       "[11160 rows x 6 columns]"
      ]
     },
     "execution_count": 59,
     "metadata": {},
     "output_type": "execute_result"
    }
   ],
   "source": [
    "df2"
   ]
  },
  {
   "cell_type": "code",
   "execution_count": 60,
   "metadata": {},
   "outputs": [
    {
     "name": "stdout",
     "output_type": "stream",
     "text": [
      "<class 'pandas.core.frame.DataFrame'>\n",
      "Int64Index: 11160 entries, 0 to 11159\n",
      "Data columns (total 6 columns):\n",
      " #   Column                               Non-Null Count  Dtype  \n",
      "---  ------                               --------------  -----  \n",
      " 0   type                                 11160 non-null  int32  \n",
      " 1   age_at_initial_pathologic_diagnosis  11160 non-null  int64  \n",
      " 2   gender                               11160 non-null  int32  \n",
      " 3   race                                 11160 non-null  int32  \n",
      " 4   ajcc_pathologic_tumor_stage          11160 non-null  float64\n",
      " 5   vital_status                         11160 non-null  int32  \n",
      "dtypes: float64(1), int32(4), int64(1)\n",
      "memory usage: 435.9 KB\n"
     ]
    }
   ],
   "source": [
    "df2.info()"
   ]
  },
  {
   "cell_type": "code",
   "execution_count": 61,
   "metadata": {},
   "outputs": [],
   "source": [
    "df2.ajcc_pathologic_tumor_stage=np.int64(df2.ajcc_pathologic_tumor_stage)"
   ]
  },
  {
   "cell_type": "code",
   "execution_count": 62,
   "metadata": {},
   "outputs": [
    {
     "data": {
      "text/html": [
       "<div>\n",
       "<style scoped>\n",
       "    .dataframe tbody tr th:only-of-type {\n",
       "        vertical-align: middle;\n",
       "    }\n",
       "\n",
       "    .dataframe tbody tr th {\n",
       "        vertical-align: top;\n",
       "    }\n",
       "\n",
       "    .dataframe thead th {\n",
       "        text-align: right;\n",
       "    }\n",
       "</style>\n",
       "<table border=\"1\" class=\"dataframe\">\n",
       "  <thead>\n",
       "    <tr style=\"text-align: right;\">\n",
       "      <th></th>\n",
       "      <th>type</th>\n",
       "      <th>age_at_initial_pathologic_diagnosis</th>\n",
       "      <th>gender</th>\n",
       "      <th>race</th>\n",
       "      <th>ajcc_pathologic_tumor_stage</th>\n",
       "      <th>vital_status</th>\n",
       "    </tr>\n",
       "  </thead>\n",
       "  <tbody>\n",
       "    <tr>\n",
       "      <th>0</th>\n",
       "      <td>1</td>\n",
       "      <td>74</td>\n",
       "      <td>1</td>\n",
       "      <td>1</td>\n",
       "      <td>6</td>\n",
       "      <td>0</td>\n",
       "    </tr>\n",
       "    <tr>\n",
       "      <th>1</th>\n",
       "      <td>2</td>\n",
       "      <td>55</td>\n",
       "      <td>0</td>\n",
       "      <td>1</td>\n",
       "      <td>12</td>\n",
       "      <td>0</td>\n",
       "    </tr>\n",
       "    <tr>\n",
       "      <th>2</th>\n",
       "      <td>2</td>\n",
       "      <td>69</td>\n",
       "      <td>0</td>\n",
       "      <td>1</td>\n",
       "      <td>7</td>\n",
       "      <td>0</td>\n",
       "    </tr>\n",
       "    <tr>\n",
       "      <th>3</th>\n",
       "      <td>2</td>\n",
       "      <td>56</td>\n",
       "      <td>0</td>\n",
       "      <td>1</td>\n",
       "      <td>8</td>\n",
       "      <td>0</td>\n",
       "    </tr>\n",
       "    <tr>\n",
       "      <th>4</th>\n",
       "      <td>2</td>\n",
       "      <td>55</td>\n",
       "      <td>0</td>\n",
       "      <td>1</td>\n",
       "      <td>7</td>\n",
       "      <td>0</td>\n",
       "    </tr>\n",
       "    <tr>\n",
       "      <th>...</th>\n",
       "      <td>...</td>\n",
       "      <td>...</td>\n",
       "      <td>...</td>\n",
       "      <td>...</td>\n",
       "      <td>...</td>\n",
       "      <td>...</td>\n",
       "    </tr>\n",
       "    <tr>\n",
       "      <th>11155</th>\n",
       "      <td>16</td>\n",
       "      <td>40</td>\n",
       "      <td>0</td>\n",
       "      <td>4</td>\n",
       "      <td>2</td>\n",
       "      <td>1</td>\n",
       "    </tr>\n",
       "    <tr>\n",
       "      <th>11156</th>\n",
       "      <td>16</td>\n",
       "      <td>34</td>\n",
       "      <td>1</td>\n",
       "      <td>4</td>\n",
       "      <td>2</td>\n",
       "      <td>1</td>\n",
       "    </tr>\n",
       "    <tr>\n",
       "      <th>11157</th>\n",
       "      <td>16</td>\n",
       "      <td>47</td>\n",
       "      <td>1</td>\n",
       "      <td>4</td>\n",
       "      <td>2</td>\n",
       "      <td>1</td>\n",
       "    </tr>\n",
       "    <tr>\n",
       "      <th>11158</th>\n",
       "      <td>16</td>\n",
       "      <td>28</td>\n",
       "      <td>1</td>\n",
       "      <td>4</td>\n",
       "      <td>2</td>\n",
       "      <td>0</td>\n",
       "    </tr>\n",
       "    <tr>\n",
       "      <th>11159</th>\n",
       "      <td>16</td>\n",
       "      <td>25</td>\n",
       "      <td>1</td>\n",
       "      <td>4</td>\n",
       "      <td>2</td>\n",
       "      <td>1</td>\n",
       "    </tr>\n",
       "  </tbody>\n",
       "</table>\n",
       "<p>11160 rows × 6 columns</p>\n",
       "</div>"
      ],
      "text/plain": [
       "       type  age_at_initial_pathologic_diagnosis  gender  race  \\\n",
       "0         1                                   74       1     1   \n",
       "1         2                                   55       0     1   \n",
       "2         2                                   69       0     1   \n",
       "3         2                                   56       0     1   \n",
       "4         2                                   55       0     1   \n",
       "...     ...                                  ...     ...   ...   \n",
       "11155    16                                   40       0     4   \n",
       "11156    16                                   34       1     4   \n",
       "11157    16                                   47       1     4   \n",
       "11158    16                                   28       1     4   \n",
       "11159    16                                   25       1     4   \n",
       "\n",
       "       ajcc_pathologic_tumor_stage  vital_status  \n",
       "0                                6             0  \n",
       "1                               12             0  \n",
       "2                                7             0  \n",
       "3                                8             0  \n",
       "4                                7             0  \n",
       "...                            ...           ...  \n",
       "11155                            2             1  \n",
       "11156                            2             1  \n",
       "11157                            2             1  \n",
       "11158                            2             0  \n",
       "11159                            2             1  \n",
       "\n",
       "[11160 rows x 6 columns]"
      ]
     },
     "execution_count": 62,
     "metadata": {},
     "output_type": "execute_result"
    }
   ],
   "source": [
    "df2"
   ]
  },
  {
   "cell_type": "code",
   "execution_count": 63,
   "metadata": {},
   "outputs": [],
   "source": [
    "#column Delay is added again and will treat missing values d by dropping rows \n",
    "df2['Delay']=df['Delay']"
   ]
  },
  {
   "cell_type": "code",
   "execution_count": 64,
   "metadata": {},
   "outputs": [
    {
     "data": {
      "text/html": [
       "<div>\n",
       "<style scoped>\n",
       "    .dataframe tbody tr th:only-of-type {\n",
       "        vertical-align: middle;\n",
       "    }\n",
       "\n",
       "    .dataframe tbody tr th {\n",
       "        vertical-align: top;\n",
       "    }\n",
       "\n",
       "    .dataframe thead th {\n",
       "        text-align: right;\n",
       "    }\n",
       "</style>\n",
       "<table border=\"1\" class=\"dataframe\">\n",
       "  <thead>\n",
       "    <tr style=\"text-align: right;\">\n",
       "      <th></th>\n",
       "      <th>type</th>\n",
       "      <th>age_at_initial_pathologic_diagnosis</th>\n",
       "      <th>gender</th>\n",
       "      <th>race</th>\n",
       "      <th>ajcc_pathologic_tumor_stage</th>\n",
       "      <th>vital_status</th>\n",
       "      <th>Delay</th>\n",
       "    </tr>\n",
       "  </thead>\n",
       "  <tbody>\n",
       "    <tr>\n",
       "      <th>0</th>\n",
       "      <td>1</td>\n",
       "      <td>74</td>\n",
       "      <td>1</td>\n",
       "      <td>1</td>\n",
       "      <td>6</td>\n",
       "      <td>0</td>\n",
       "      <td>0.0</td>\n",
       "    </tr>\n",
       "    <tr>\n",
       "      <th>1</th>\n",
       "      <td>2</td>\n",
       "      <td>55</td>\n",
       "      <td>0</td>\n",
       "      <td>1</td>\n",
       "      <td>12</td>\n",
       "      <td>0</td>\n",
       "      <td>0.0</td>\n",
       "    </tr>\n",
       "    <tr>\n",
       "      <th>2</th>\n",
       "      <td>2</td>\n",
       "      <td>69</td>\n",
       "      <td>0</td>\n",
       "      <td>1</td>\n",
       "      <td>7</td>\n",
       "      <td>0</td>\n",
       "      <td>0.0</td>\n",
       "    </tr>\n",
       "    <tr>\n",
       "      <th>3</th>\n",
       "      <td>2</td>\n",
       "      <td>56</td>\n",
       "      <td>0</td>\n",
       "      <td>1</td>\n",
       "      <td>8</td>\n",
       "      <td>0</td>\n",
       "      <td>0.0</td>\n",
       "    </tr>\n",
       "    <tr>\n",
       "      <th>4</th>\n",
       "      <td>2</td>\n",
       "      <td>55</td>\n",
       "      <td>0</td>\n",
       "      <td>1</td>\n",
       "      <td>7</td>\n",
       "      <td>0</td>\n",
       "      <td>0.0</td>\n",
       "    </tr>\n",
       "  </tbody>\n",
       "</table>\n",
       "</div>"
      ],
      "text/plain": [
       "   type  age_at_initial_pathologic_diagnosis  gender  race  \\\n",
       "0     1                                   74       1     1   \n",
       "1     2                                   55       0     1   \n",
       "2     2                                   69       0     1   \n",
       "3     2                                   56       0     1   \n",
       "4     2                                   55       0     1   \n",
       "\n",
       "   ajcc_pathologic_tumor_stage  vital_status  Delay  \n",
       "0                            6             0    0.0  \n",
       "1                           12             0    0.0  \n",
       "2                            7             0    0.0  \n",
       "3                            8             0    0.0  \n",
       "4                            7             0    0.0  "
      ]
     },
     "execution_count": 64,
     "metadata": {},
     "output_type": "execute_result"
    }
   ],
   "source": [
    "df2.head()"
   ]
  },
  {
   "cell_type": "code",
   "execution_count": 65,
   "metadata": {},
   "outputs": [
    {
     "data": {
      "text/plain": [
       "type                                    0\n",
       "age_at_initial_pathologic_diagnosis     0\n",
       "gender                                  0\n",
       "race                                    0\n",
       "ajcc_pathologic_tumor_stage             0\n",
       "vital_status                            0\n",
       "Delay                                  66\n",
       "dtype: int64"
      ]
     },
     "execution_count": 65,
     "metadata": {},
     "output_type": "execute_result"
    }
   ],
   "source": [
    "df2.isnull().sum()"
   ]
  },
  {
   "cell_type": "code",
   "execution_count": 66,
   "metadata": {},
   "outputs": [],
   "source": [
    "# now making final cleaned dataset by elemenating all missing values\n",
    "df_final=df2.dropna()"
   ]
  },
  {
   "cell_type": "code",
   "execution_count": 67,
   "metadata": {},
   "outputs": [
    {
     "data": {
      "text/plain": [
       "type                                   0\n",
       "age_at_initial_pathologic_diagnosis    0\n",
       "gender                                 0\n",
       "race                                   0\n",
       "ajcc_pathologic_tumor_stage            0\n",
       "vital_status                           0\n",
       "Delay                                  0\n",
       "dtype: int64"
      ]
     },
     "execution_count": 67,
     "metadata": {},
     "output_type": "execute_result"
    }
   ],
   "source": [
    "df_final.isnull().sum()"
   ]
  },
  {
   "cell_type": "code",
   "execution_count": 68,
   "metadata": {},
   "outputs": [
    {
     "data": {
      "text/html": [
       "<div>\n",
       "<style scoped>\n",
       "    .dataframe tbody tr th:only-of-type {\n",
       "        vertical-align: middle;\n",
       "    }\n",
       "\n",
       "    .dataframe tbody tr th {\n",
       "        vertical-align: top;\n",
       "    }\n",
       "\n",
       "    .dataframe thead th {\n",
       "        text-align: right;\n",
       "    }\n",
       "</style>\n",
       "<table border=\"1\" class=\"dataframe\">\n",
       "  <thead>\n",
       "    <tr style=\"text-align: right;\">\n",
       "      <th></th>\n",
       "      <th>type</th>\n",
       "      <th>age_at_initial_pathologic_diagnosis</th>\n",
       "      <th>gender</th>\n",
       "      <th>race</th>\n",
       "      <th>ajcc_pathologic_tumor_stage</th>\n",
       "      <th>vital_status</th>\n",
       "      <th>Delay</th>\n",
       "    </tr>\n",
       "  </thead>\n",
       "  <tbody>\n",
       "    <tr>\n",
       "      <th>0</th>\n",
       "      <td>1</td>\n",
       "      <td>74</td>\n",
       "      <td>1</td>\n",
       "      <td>1</td>\n",
       "      <td>6</td>\n",
       "      <td>0</td>\n",
       "      <td>0.0</td>\n",
       "    </tr>\n",
       "    <tr>\n",
       "      <th>1</th>\n",
       "      <td>2</td>\n",
       "      <td>55</td>\n",
       "      <td>0</td>\n",
       "      <td>1</td>\n",
       "      <td>12</td>\n",
       "      <td>0</td>\n",
       "      <td>0.0</td>\n",
       "    </tr>\n",
       "    <tr>\n",
       "      <th>2</th>\n",
       "      <td>2</td>\n",
       "      <td>69</td>\n",
       "      <td>0</td>\n",
       "      <td>1</td>\n",
       "      <td>7</td>\n",
       "      <td>0</td>\n",
       "      <td>0.0</td>\n",
       "    </tr>\n",
       "    <tr>\n",
       "      <th>3</th>\n",
       "      <td>2</td>\n",
       "      <td>56</td>\n",
       "      <td>0</td>\n",
       "      <td>1</td>\n",
       "      <td>8</td>\n",
       "      <td>0</td>\n",
       "      <td>0.0</td>\n",
       "    </tr>\n",
       "    <tr>\n",
       "      <th>4</th>\n",
       "      <td>2</td>\n",
       "      <td>55</td>\n",
       "      <td>0</td>\n",
       "      <td>1</td>\n",
       "      <td>7</td>\n",
       "      <td>0</td>\n",
       "      <td>0.0</td>\n",
       "    </tr>\n",
       "    <tr>\n",
       "      <th>...</th>\n",
       "      <td>...</td>\n",
       "      <td>...</td>\n",
       "      <td>...</td>\n",
       "      <td>...</td>\n",
       "      <td>...</td>\n",
       "      <td>...</td>\n",
       "      <td>...</td>\n",
       "    </tr>\n",
       "    <tr>\n",
       "      <th>11089</th>\n",
       "      <td>18</td>\n",
       "      <td>5</td>\n",
       "      <td>1</td>\n",
       "      <td>4</td>\n",
       "      <td>6</td>\n",
       "      <td>0</td>\n",
       "      <td>9634.0</td>\n",
       "    </tr>\n",
       "    <tr>\n",
       "      <th>11090</th>\n",
       "      <td>16</td>\n",
       "      <td>45</td>\n",
       "      <td>0</td>\n",
       "      <td>4</td>\n",
       "      <td>8</td>\n",
       "      <td>1</td>\n",
       "      <td>10346.0</td>\n",
       "    </tr>\n",
       "    <tr>\n",
       "      <th>11091</th>\n",
       "      <td>16</td>\n",
       "      <td>37</td>\n",
       "      <td>1</td>\n",
       "      <td>4</td>\n",
       "      <td>0</td>\n",
       "      <td>1</td>\n",
       "      <td>10870.0</td>\n",
       "    </tr>\n",
       "    <tr>\n",
       "      <th>11092</th>\n",
       "      <td>22</td>\n",
       "      <td>9</td>\n",
       "      <td>0</td>\n",
       "      <td>4</td>\n",
       "      <td>5</td>\n",
       "      <td>0</td>\n",
       "      <td>11217.0</td>\n",
       "    </tr>\n",
       "    <tr>\n",
       "      <th>11093</th>\n",
       "      <td>22</td>\n",
       "      <td>36</td>\n",
       "      <td>0</td>\n",
       "      <td>4</td>\n",
       "      <td>5</td>\n",
       "      <td>0</td>\n",
       "      <td>11252.0</td>\n",
       "    </tr>\n",
       "  </tbody>\n",
       "</table>\n",
       "<p>11094 rows × 7 columns</p>\n",
       "</div>"
      ],
      "text/plain": [
       "       type  age_at_initial_pathologic_diagnosis  gender  race  \\\n",
       "0         1                                   74       1     1   \n",
       "1         2                                   55       0     1   \n",
       "2         2                                   69       0     1   \n",
       "3         2                                   56       0     1   \n",
       "4         2                                   55       0     1   \n",
       "...     ...                                  ...     ...   ...   \n",
       "11089    18                                    5       1     4   \n",
       "11090    16                                   45       0     4   \n",
       "11091    16                                   37       1     4   \n",
       "11092    22                                    9       0     4   \n",
       "11093    22                                   36       0     4   \n",
       "\n",
       "       ajcc_pathologic_tumor_stage  vital_status    Delay  \n",
       "0                                6             0      0.0  \n",
       "1                               12             0      0.0  \n",
       "2                                7             0      0.0  \n",
       "3                                8             0      0.0  \n",
       "4                                7             0      0.0  \n",
       "...                            ...           ...      ...  \n",
       "11089                            6             0   9634.0  \n",
       "11090                            8             1  10346.0  \n",
       "11091                            0             1  10870.0  \n",
       "11092                            5             0  11217.0  \n",
       "11093                            5             0  11252.0  \n",
       "\n",
       "[11094 rows x 7 columns]"
      ]
     },
     "execution_count": 68,
     "metadata": {},
     "output_type": "execute_result"
    }
   ],
   "source": [
    "df_final"
   ]
  },
  {
   "cell_type": "markdown",
   "metadata": {},
   "source": [
    "## Survival Analysis"
   ]
  },
  {
   "cell_type": "code",
   "execution_count": 69,
   "metadata": {},
   "outputs": [],
   "source": [
    "#!pip install  Lifelines"
   ]
  },
  {
   "cell_type": "code",
   "execution_count": 70,
   "metadata": {},
   "outputs": [],
   "source": [
    "from lifelines import KaplanMeierFitter\n",
    "import matplotlib.pyplot as plt\n",
    "%matplotlib inline"
   ]
  },
  {
   "cell_type": "code",
   "execution_count": 71,
   "metadata": {},
   "outputs": [
    {
     "data": {
      "image/png": "[encoded data removed]",
      "text/plain": [
       "<Figure size 432x288 with 1 Axes>"
      ]
     },
     "metadata": {
      "needs_background": "light"
     },
     "output_type": "display_data"
    }
   ],
   "source": [
    "#survival probability with time distribution\n",
    "# time is represented in year so \n",
    "Days=df_final['Delay']\n",
    "year=Days/365 # Delay column contains information of number of days after diagnosis so I replaced days into year \n",
    "event=df_final['vital_status'] # vital_status contains event dead =1 and event alive=0\n",
    "plt.hist(year,bins=50)\n",
    "plt.show()"
   ]
  },
  {
   "cell_type": "markdown",
   "metadata": {},
   "source": [
    "## fitting a non perametric model[Kaplen Mier Curve]"
   ]
  },
  {
   "cell_type": "code",
   "execution_count": 72,
   "metadata": {},
   "outputs": [
    {
     "data": {
      "text/plain": [
       "Text(0, 0.5, 'Survival probability')"
      ]
     },
     "execution_count": 72,
     "metadata": {},
     "output_type": "execute_result"
    },
    {
     "data": {
      "image/png": "[encoded data removed]",
      "text/plain": [
       "<Figure size 432x288 with 1 Axes>"
      ]
     },
     "metadata": {
      "needs_background": "light"
     },
     "output_type": "display_data"
    }
   ],
   "source": [
    "#survival probability using entire dataset with time\n",
    "kmf=KaplanMeierFitter()\n",
    "kmf.fit(durations=year,event_observed=event)\n",
    "kmf.plot_survival_function()\n",
    "plt.xlabel(\"time (year)\")\n",
    "plt.ylabel(\"Survival probability\")"
   ]
  },
  {
   "cell_type": "code",
   "execution_count": 73,
   "metadata": {},
   "outputs": [
    {
     "data": {
      "text/plain": [
       "Text(0.5, 1.0, 'Survival Function')"
      ]
     },
     "execution_count": 73,
     "metadata": {},
     "output_type": "execute_result"
    },
    {
     "data": {
      "image/png": "[encoded data removed]",
      "text/plain": [
       "<Figure size 432x288 with 1 Axes>"
      ]
     },
     "metadata": {
      "needs_background": "light"
     },
     "output_type": "display_data"
    }
   ],
   "source": [
    "#survival probability without confidence interval\n",
    "kmf.survival_function_.plot()\n",
    "plt.title(\"Survival Function\")"
   ]
  },
  {
   "cell_type": "code",
   "execution_count": 74,
   "metadata": {},
   "outputs": [
    {
     "data": {
      "text/plain": [
       "<AxesSubplot:xlabel='timeline'>"
      ]
     },
     "execution_count": 74,
     "metadata": {},
     "output_type": "execute_result"
    },
    {
     "data": {
      "image/png": "[encoded data removed]",
      "text/plain": [
       "<Figure size 432x288 with 1 Axes>"
      ]
     },
     "metadata": {
      "needs_background": "light"
     },
     "output_type": "display_data"
    }
   ],
   "source": [
    "#probability of death\n",
    "kmf.plot_cumulative_density()"
   ]
  },
  {
   "cell_type": "code",
   "execution_count": 75,
   "metadata": {},
   "outputs": [
    {
     "data": {
      "text/plain": [
       "6.632876712328767"
      ]
     },
     "execution_count": 75,
     "metadata": {},
     "output_type": "execute_result"
    }
   ],
   "source": [
    "#probability of 50% survival\n",
    "kmf.median_survival_time_"
   ]
  },
  {
   "cell_type": "code",
   "execution_count": 76,
   "metadata": {},
   "outputs": [
    {
     "data": {
      "text/html": [
       "<div>\n",
       "<style scoped>\n",
       "    .dataframe tbody tr th:only-of-type {\n",
       "        vertical-align: middle;\n",
       "    }\n",
       "\n",
       "    .dataframe tbody tr th {\n",
       "        vertical-align: top;\n",
       "    }\n",
       "\n",
       "    .dataframe thead th {\n",
       "        text-align: right;\n",
       "    }\n",
       "</style>\n",
       "<table border=\"1\" class=\"dataframe\">\n",
       "  <thead>\n",
       "    <tr style=\"text-align: right;\">\n",
       "      <th></th>\n",
       "      <th>removed</th>\n",
       "      <th>observed</th>\n",
       "      <th>censored</th>\n",
       "      <th>entrance</th>\n",
       "      <th>at_risk</th>\n",
       "    </tr>\n",
       "    <tr>\n",
       "      <th>event_at</th>\n",
       "      <th></th>\n",
       "      <th></th>\n",
       "      <th></th>\n",
       "      <th></th>\n",
       "      <th></th>\n",
       "    </tr>\n",
       "  </thead>\n",
       "  <tbody>\n",
       "    <tr>\n",
       "      <th>0.000000</th>\n",
       "      <td>108</td>\n",
       "      <td>19</td>\n",
       "      <td>89</td>\n",
       "      <td>11094</td>\n",
       "      <td>11094</td>\n",
       "    </tr>\n",
       "    <tr>\n",
       "      <th>0.002740</th>\n",
       "      <td>6</td>\n",
       "      <td>1</td>\n",
       "      <td>5</td>\n",
       "      <td>0</td>\n",
       "      <td>10986</td>\n",
       "    </tr>\n",
       "    <tr>\n",
       "      <th>0.005479</th>\n",
       "      <td>9</td>\n",
       "      <td>4</td>\n",
       "      <td>5</td>\n",
       "      <td>0</td>\n",
       "      <td>10980</td>\n",
       "    </tr>\n",
       "    <tr>\n",
       "      <th>0.008219</th>\n",
       "      <td>19</td>\n",
       "      <td>3</td>\n",
       "      <td>16</td>\n",
       "      <td>0</td>\n",
       "      <td>10971</td>\n",
       "    </tr>\n",
       "    <tr>\n",
       "      <th>0.010959</th>\n",
       "      <td>13</td>\n",
       "      <td>1</td>\n",
       "      <td>12</td>\n",
       "      <td>0</td>\n",
       "      <td>10952</td>\n",
       "    </tr>\n",
       "    <tr>\n",
       "      <th>...</th>\n",
       "      <td>...</td>\n",
       "      <td>...</td>\n",
       "      <td>...</td>\n",
       "      <td>...</td>\n",
       "      <td>...</td>\n",
       "    </tr>\n",
       "    <tr>\n",
       "      <th>26.394521</th>\n",
       "      <td>1</td>\n",
       "      <td>0</td>\n",
       "      <td>1</td>\n",
       "      <td>0</td>\n",
       "      <td>5</td>\n",
       "    </tr>\n",
       "    <tr>\n",
       "      <th>28.345205</th>\n",
       "      <td>1</td>\n",
       "      <td>1</td>\n",
       "      <td>0</td>\n",
       "      <td>0</td>\n",
       "      <td>4</td>\n",
       "    </tr>\n",
       "    <tr>\n",
       "      <th>29.780822</th>\n",
       "      <td>1</td>\n",
       "      <td>1</td>\n",
       "      <td>0</td>\n",
       "      <td>0</td>\n",
       "      <td>3</td>\n",
       "    </tr>\n",
       "    <tr>\n",
       "      <th>30.731507</th>\n",
       "      <td>1</td>\n",
       "      <td>0</td>\n",
       "      <td>1</td>\n",
       "      <td>0</td>\n",
       "      <td>2</td>\n",
       "    </tr>\n",
       "    <tr>\n",
       "      <th>30.827397</th>\n",
       "      <td>1</td>\n",
       "      <td>0</td>\n",
       "      <td>1</td>\n",
       "      <td>0</td>\n",
       "      <td>1</td>\n",
       "    </tr>\n",
       "  </tbody>\n",
       "</table>\n",
       "<p>2995 rows × 5 columns</p>\n",
       "</div>"
      ],
      "text/plain": [
       "           removed  observed  censored  entrance  at_risk\n",
       "event_at                                                 \n",
       "0.000000       108        19        89     11094    11094\n",
       "0.002740         6         1         5         0    10986\n",
       "0.005479         9         4         5         0    10980\n",
       "0.008219        19         3        16         0    10971\n",
       "0.010959        13         1        12         0    10952\n",
       "...            ...       ...       ...       ...      ...\n",
       "26.394521        1         0         1         0        5\n",
       "28.345205        1         1         0         0        4\n",
       "29.780822        1         1         0         0        3\n",
       "30.731507        1         0         1         0        2\n",
       "30.827397        1         0         1         0        1\n",
       "\n",
       "[2995 rows x 5 columns]"
      ]
     },
     "execution_count": 76,
     "metadata": {},
     "output_type": "execute_result"
    }
   ],
   "source": [
    "kmf.event_table\n",
    "#removed=observed+censored\n",
    "#censored= Person that didnot die (they are of no use to us!)\n",
    "#observed=Person that died."
   ]
  },
  {
   "cell_type": "code",
   "execution_count": 77,
   "metadata": {},
   "outputs": [
    {
     "data": {
      "text/html": [
       "<div>\n",
       "<style scoped>\n",
       "    .dataframe tbody tr th:only-of-type {\n",
       "        vertical-align: middle;\n",
       "    }\n",
       "\n",
       "    .dataframe tbody tr th {\n",
       "        vertical-align: top;\n",
       "    }\n",
       "\n",
       "    .dataframe thead th {\n",
       "        text-align: right;\n",
       "    }\n",
       "</style>\n",
       "<table border=\"1\" class=\"dataframe\">\n",
       "  <thead>\n",
       "    <tr style=\"text-align: right;\">\n",
       "      <th></th>\n",
       "      <th>KM_estimate</th>\n",
       "    </tr>\n",
       "    <tr>\n",
       "      <th>timeline</th>\n",
       "      <th></th>\n",
       "    </tr>\n",
       "  </thead>\n",
       "  <tbody>\n",
       "    <tr>\n",
       "      <th>0.000000</th>\n",
       "      <td>0.998287</td>\n",
       "    </tr>\n",
       "    <tr>\n",
       "      <th>0.002740</th>\n",
       "      <td>0.998196</td>\n",
       "    </tr>\n",
       "    <tr>\n",
       "      <th>0.005479</th>\n",
       "      <td>0.997833</td>\n",
       "    </tr>\n",
       "    <tr>\n",
       "      <th>0.008219</th>\n",
       "      <td>0.997560</td>\n",
       "    </tr>\n",
       "    <tr>\n",
       "      <th>0.010959</th>\n",
       "      <td>0.997469</td>\n",
       "    </tr>\n",
       "    <tr>\n",
       "      <th>...</th>\n",
       "      <td>...</td>\n",
       "    </tr>\n",
       "    <tr>\n",
       "      <th>26.394521</th>\n",
       "      <td>0.139883</td>\n",
       "    </tr>\n",
       "    <tr>\n",
       "      <th>28.345205</th>\n",
       "      <td>0.104912</td>\n",
       "    </tr>\n",
       "    <tr>\n",
       "      <th>29.780822</th>\n",
       "      <td>0.069941</td>\n",
       "    </tr>\n",
       "    <tr>\n",
       "      <th>30.731507</th>\n",
       "      <td>0.069941</td>\n",
       "    </tr>\n",
       "    <tr>\n",
       "      <th>30.827397</th>\n",
       "      <td>0.069941</td>\n",
       "    </tr>\n",
       "  </tbody>\n",
       "</table>\n",
       "<p>2995 rows × 1 columns</p>\n",
       "</div>"
      ],
      "text/plain": [
       "           KM_estimate\n",
       "timeline              \n",
       "0.000000      0.998287\n",
       "0.002740      0.998196\n",
       "0.005479      0.997833\n",
       "0.008219      0.997560\n",
       "0.010959      0.997469\n",
       "...                ...\n",
       "26.394521     0.139883\n",
       "28.345205     0.104912\n",
       "29.780822     0.069941\n",
       "30.731507     0.069941\n",
       "30.827397     0.069941\n",
       "\n",
       "[2995 rows x 1 columns]"
      ]
     },
     "execution_count": 77,
     "metadata": {},
     "output_type": "execute_result"
    }
   ],
   "source": [
    "kmf.survival_function_"
   ]
  },
  {
   "cell_type": "code",
   "execution_count": 78,
   "metadata": {},
   "outputs": [
    {
     "name": "stdout",
     "output_type": "stream",
     "text": [
      "6.632876712328767\n",
      "     KM_estimate_lower_0.95  KM_estimate_upper_0.95\n",
      "0.5                6.227397                7.041096\n"
     ]
    }
   ],
   "source": [
    "from lifelines.utils import median_survival_times\n",
    "median=kmf.median_survival_time_\n",
    "median_confidence_interval=median_survival_times(kmf.confidence_interval_)\n",
    "print(median)\n",
    "print(median_confidence_interval)"
   ]
  },
  {
   "cell_type": "code",
   "execution_count": 79,
   "metadata": {},
   "outputs": [
    {
     "data": {
      "text/plain": [
       "Text(0, 0.5, 'Survival probability')"
      ]
     },
     "execution_count": 79,
     "metadata": {},
     "output_type": "execute_result"
    },
    {
     "data": {
      "image/png": "[encoded data removed]",
      "text/plain": [
       "<Figure size 432x288 with 1 Axes>"
      ]
     },
     "metadata": {
      "needs_background": "light"
     },
     "output_type": "display_data"
    }
   ],
   "source": [
    "#survival probability of different gender group\n",
    "ax = plt.subplot(111)\n",
    "\n",
    "m=(df_final['gender']==1)\n",
    "\n",
    "kmf.fit(year[m], event_observed=event[m],label=\"Male\")\n",
    "kmf.plot_survival_function(ax=ax)\n",
    "\n",
    "kmf.fit(year[~m],event_observed=event[~m],label=\"Female\")\n",
    "kmf.plot_survival_function(ax=ax)\n",
    "\n",
    "plt.title(\"Survival of different gender group\")\n",
    "plt.xlabel(\"time (year)\")\n",
    "plt.ylabel(\"Survival probability\")\n"
   ]
  },
  {
   "cell_type": "markdown",
   "metadata": {},
   "source": [
    "This is very clear that survival rate of female is always higher than male group in entire timeline."
   ]
  },
  {
   "cell_type": "code",
   "execution_count": 80,
   "metadata": {},
   "outputs": [],
   "source": [
    "#survival probability of different race\n",
    "kmf_asn=KaplanMeierFitter()\n",
    "kmf_wht=KaplanMeierFitter()\n",
    "kmf_blck=KaplanMeierFitter()\n",
    "kmf_ind=KaplanMeierFitter()\n",
    "kmf_hwn=KaplanMeierFitter()\n"
   ]
  },
  {
   "cell_type": "code",
   "execution_count": 81,
   "metadata": {},
   "outputs": [],
   "source": [
    "assian=(df_final['race']==1)\n",
    "white=(df_final['race']==4)\n",
    "black=(df_final['race']==2)\n",
    "indian=(df_final['race']==0)\n",
    "hawaiian=(df_final['race']==3)"
   ]
  },
  {
   "cell_type": "code",
   "execution_count": 82,
   "metadata": {},
   "outputs": [
    {
     "data": {
      "text/plain": [
       "Text(0, 0.5, 'Survival probability')"
      ]
     },
     "execution_count": 82,
     "metadata": {},
     "output_type": "execute_result"
    },
    {
     "data": {
      "image/png": "[encoded data removed]",
      "text/plain": [
       "<Figure size 432x288 with 1 Axes>"
      ]
     },
     "metadata": {
      "needs_background": "light"
     },
     "output_type": "display_data"
    }
   ],
   "source": [
    "ax = plt.subplot(111)\n",
    "kmf_asn.fit(year[assian], event_observed=event[assian],label=\"Assian\")\n",
    "kmf_asn.plot_survival_function(ax=ax)\n",
    "\n",
    "\n",
    "kmf_wht.fit(year[white], event_observed=event[white],label=\"White\")\n",
    "kmf_wht.plot_survival_function(ax=ax)\n",
    "\n",
    "\n",
    "kmf_blck.fit(year[black], event_observed=event[black],label=\"Black\")\n",
    "kmf_blck.plot_survival_function(ax=ax)\n",
    "\n",
    "kmf_ind.fit(year[indian], event_observed=event[indian],label=\"American Indian\")\n",
    "kmf_ind.plot_survival_function(ax=ax)\n",
    "\n",
    "kmf_hwn.fit(year[hawaiian], event_observed=event[hawaiian],label=\"Hawaiian\")\n",
    "kmf_hwn.plot_survival_function(ax=ax)\n",
    "\n",
    "plt.title(\"Survival of different race \")\n",
    "plt.xlabel(\"time (year)\")\n",
    "plt.ylabel(\"Survival probability\")"
   ]
  },
  {
   "cell_type": "markdown",
   "metadata": {},
   "source": [
    "From the above graph we can see that graph is not smooth, it creates step function over particular time duration\n",
    "\n",
    "The reason behind this step function creation is because of limited sample over a given time duration\n",
    "\n",
    "This is a major drawback of Kaplan Mier estimation.\n"
   ]
  },
  {
   "cell_type": "code",
   "execution_count": 83,
   "metadata": {},
   "outputs": [
    {
     "data": {
      "text/plain": [
       "79"
      ]
     },
     "execution_count": 83,
     "metadata": {},
     "output_type": "execute_result"
    }
   ],
   "source": [
    "df_final['age_at_initial_pathologic_diagnosis'].max()"
   ]
  },
  {
   "cell_type": "code",
   "execution_count": 84,
   "metadata": {},
   "outputs": [
    {
     "data": {
      "text/plain": [
       "type                                   0\n",
       "age_at_initial_pathologic_diagnosis    0\n",
       "gender                                 0\n",
       "race                                   0\n",
       "ajcc_pathologic_tumor_stage            0\n",
       "vital_status                           0\n",
       "Delay                                  0\n",
       "dtype: int64"
      ]
     },
     "execution_count": 84,
     "metadata": {},
     "output_type": "execute_result"
    }
   ],
   "source": [
    "df_final.isnull().sum()"
   ]
  },
  {
   "cell_type": "code",
   "execution_count": 85,
   "metadata": {},
   "outputs": [
    {
     "name": "stderr",
     "output_type": "stream",
     "text": [
      "<ipython-input-85-43a47f8f7545>:2: SettingWithCopyWarning: \n",
      "A value is trying to be set on a copy of a slice from a DataFrame.\n",
      "Try using .loc[row_indexer,col_indexer] = value instead\n",
      "\n",
      "See the caveats in the documentation: https://pandas.pydata.org/pandas-docs/stable/user_guide/indexing.html#returning-a-view-versus-a-copy\n",
      "  df_final['age_bins'] = pd.cut(x=df_final['age_at_initial_pathologic_diagnosis'], bins=[0,20, 40, 60, 80])\n"
     ]
    }
   ],
   "source": [
    "#creating class interval for diffenrt age group of size 20\n",
    "df_final['age_bins'] = pd.cut(x=df_final['age_at_initial_pathologic_diagnosis'], bins=[0,20, 40, 60, 80])"
   ]
  },
  {
   "cell_type": "code",
   "execution_count": 86,
   "metadata": {},
   "outputs": [
    {
     "data": {
      "text/plain": [
       "(40, 60]    5094\n",
       "(20, 40]    3170\n",
       "(60, 80]    2074\n",
       "(0, 20]      753\n",
       "Name: age_bins, dtype: int64"
      ]
     },
     "execution_count": 86,
     "metadata": {},
     "output_type": "execute_result"
    }
   ],
   "source": [
    "df_final['age_bins'].value_counts()\n"
   ]
  },
  {
   "cell_type": "code",
   "execution_count": 87,
   "metadata": {},
   "outputs": [
    {
     "data": {
      "text/plain": [
       "[(60.0, 80.0], (40.0, 60.0], (20.0, 40.0], (0.0, 20.0], NaN]\n",
       "Categories (4, interval[int64]): [(0, 20] < (20, 40] < (40, 60] < (60, 80]]"
      ]
     },
     "execution_count": 87,
     "metadata": {},
     "output_type": "execute_result"
    }
   ],
   "source": [
    "df_final['age_bins'].unique()"
   ]
  },
  {
   "cell_type": "code",
   "execution_count": 88,
   "metadata": {},
   "outputs": [
    {
     "name": "stderr",
     "output_type": "stream",
     "text": [
      "<ipython-input-88-facb81eae35b>:2: SettingWithCopyWarning: \n",
      "A value is trying to be set on a copy of a slice from a DataFrame.\n",
      "Try using .loc[row_indexer,col_indexer] = value instead\n",
      "\n",
      "See the caveats in the documentation: https://pandas.pydata.org/pandas-docs/stable/user_guide/indexing.html#returning-a-view-versus-a-copy\n",
      "  df_final['age_bins'] = le.fit_transform(df_final['age_bins'])\n"
     ]
    }
   ],
   "source": [
    "#coverting agebin into numerical number\n",
    "df_final['age_bins'] = le.fit_transform(df_final['age_bins'])"
   ]
  },
  {
   "cell_type": "code",
   "execution_count": 89,
   "metadata": {},
   "outputs": [
    {
     "data": {
      "text/plain": [
       "2    5094\n",
       "1    3170\n",
       "3    2074\n",
       "0     753\n",
       "4       3\n",
       "Name: age_bins, dtype: int64"
      ]
     },
     "execution_count": 89,
     "metadata": {},
     "output_type": "execute_result"
    }
   ],
   "source": [
    "df_final['age_bins'].value_counts()"
   ]
  },
  {
   "cell_type": "code",
   "execution_count": 90,
   "metadata": {},
   "outputs": [
    {
     "data": {
      "text/plain": [
       "Text(0, 0.5, 'Survival probability')"
      ]
     },
     "execution_count": 90,
     "metadata": {},
     "output_type": "execute_result"
    },
    {
     "data": {
      "image/png": "[encoded data removed]",
      "text/plain": [
       "<Figure size 432x288 with 1 Axes>"
      ]
     },
     "metadata": {
      "needs_background": "light"
     },
     "output_type": "display_data"
    }
   ],
   "source": [
    "#survival probability of different age interval\n",
    "ax = plt.subplot(111)\n",
    "\n",
    "a=(df_final['age_bins']==0)\n",
    "b=(df_final['age_bins']==1)\n",
    "c=(df_final['age_bins']==2)\n",
    "d=(df_final['age_bins']==3)\n",
    "\n",
    "kmf.fit(year[a], event_observed=event[a],label=\"[0-20]\")\n",
    "kmf.plot_survival_function(ax=ax)\n",
    "\n",
    "kmf.fit(year[b], event_observed=event[b],label=\"[21-40]\")\n",
    "kmf.plot_survival_function(ax=ax)\n",
    "\n",
    "kmf.fit(year[c], event_observed=event[c],label=\"[41-60]\")\n",
    "kmf.plot_survival_function(ax=ax)\n",
    "\n",
    "kmf.fit(year[d], event_observed=event[d],label=\"[61-80]\")\n",
    "kmf.plot_survival_function(ax=ax)\n",
    "\n",
    "\n",
    "\n",
    "plt.title(\"Survival rate of different age group\")\n",
    "plt.xlabel(\"time (year)\")\n",
    "plt.ylabel(\"Survival probability\")"
   ]
  },
  {
   "cell_type": "markdown",
   "metadata": {},
   "source": [
    "From the above graph if we ignore the step function, we can see that age interval of [0-20] has highest survival probability where as age interval of [61-80] has lowest survival probability with time duration."
   ]
  },
  {
   "cell_type": "code",
   "execution_count": 91,
   "metadata": {},
   "outputs": [
    {
     "data": {
      "text/html": [
       "<div>\n",
       "<style scoped>\n",
       "    .dataframe tbody tr th:only-of-type {\n",
       "        vertical-align: middle;\n",
       "    }\n",
       "\n",
       "    .dataframe tbody tr th {\n",
       "        vertical-align: top;\n",
       "    }\n",
       "\n",
       "    .dataframe thead th {\n",
       "        text-align: right;\n",
       "    }\n",
       "</style>\n",
       "<table border=\"1\" class=\"dataframe\">\n",
       "  <tbody>\n",
       "    <tr>\n",
       "      <th>t_0</th>\n",
       "      <td>-1</td>\n",
       "    </tr>\n",
       "    <tr>\n",
       "      <th>null_distribution</th>\n",
       "      <td>chi squared</td>\n",
       "    </tr>\n",
       "    <tr>\n",
       "      <th>degrees_of_freedom</th>\n",
       "      <td>1</td>\n",
       "    </tr>\n",
       "    <tr>\n",
       "      <th>alpha</th>\n",
       "      <td>0.99</td>\n",
       "    </tr>\n",
       "    <tr>\n",
       "      <th>test_name</th>\n",
       "      <td>logrank_test</td>\n",
       "    </tr>\n",
       "  </tbody>\n",
       "</table>\n",
       "</div><table border=\"1\" class=\"dataframe\">\n",
       "  <thead>\n",
       "    <tr style=\"text-align: right;\">\n",
       "      <th></th>\n",
       "      <th>test_statistic</th>\n",
       "      <th>p</th>\n",
       "      <th>-log2(p)</th>\n",
       "    </tr>\n",
       "  </thead>\n",
       "  <tbody>\n",
       "    <tr>\n",
       "      <th>0</th>\n",
       "      <td>32.44</td>\n",
       "      <td>&lt;0.005</td>\n",
       "      <td>26.28</td>\n",
       "    </tr>\n",
       "  </tbody>\n",
       "</table>"
      ],
      "text/latex": [
       "\\begin{tabular}{lrrr}\n",
       "\\toprule\n",
       "{} &  test\\_statistic &             p &   -log2(p) \\\\\n",
       "\\midrule\n",
       "0 &       32.438475 &  1.230264e-08 &  26.276457 \\\\\n",
       "\\bottomrule\n",
       "\\end{tabular}\n"
      ],
      "text/plain": [
       "<lifelines.StatisticalResult: logrank_test>\n",
       "               t_0 = -1\n",
       " null_distribution = chi squared\n",
       "degrees_of_freedom = 1\n",
       "             alpha = 0.99\n",
       "         test_name = logrank_test\n",
       "\n",
       "---\n",
       " test_statistic      p  -log2(p)\n",
       "          32.44 <0.005     26.28"
      ]
     },
     "metadata": {},
     "output_type": "display_data"
    }
   ],
   "source": [
    "#logrank test\n",
    "from lifelines.statistics import logrank_test\n",
    "\n",
    "results = logrank_test(year[m], year[~m], event[m], event[~m], alpha=.99)\n",
    "\n",
    "results.print_summary()"
   ]
  },
  {
   "cell_type": "code",
   "execution_count": 92,
   "metadata": {},
   "outputs": [
    {
     "data": {
      "text/html": [
       "<div>\n",
       "<style scoped>\n",
       "    .dataframe tbody tr th:only-of-type {\n",
       "        vertical-align: middle;\n",
       "    }\n",
       "\n",
       "    .dataframe tbody tr th {\n",
       "        vertical-align: top;\n",
       "    }\n",
       "\n",
       "    .dataframe thead th {\n",
       "        text-align: right;\n",
       "    }\n",
       "</style>\n",
       "<table border=\"1\" class=\"dataframe\">\n",
       "  <tbody>\n",
       "    <tr>\n",
       "      <th>t_0</th>\n",
       "      <td>-1</td>\n",
       "    </tr>\n",
       "    <tr>\n",
       "      <th>null_distribution</th>\n",
       "      <td>chi squared</td>\n",
       "    </tr>\n",
       "    <tr>\n",
       "      <th>degrees_of_freedom</th>\n",
       "      <td>1</td>\n",
       "    </tr>\n",
       "    <tr>\n",
       "      <th>alpha</th>\n",
       "      <td>0.99</td>\n",
       "    </tr>\n",
       "    <tr>\n",
       "      <th>test_name</th>\n",
       "      <td>logrank_test</td>\n",
       "    </tr>\n",
       "  </tbody>\n",
       "</table>\n",
       "</div><table border=\"1\" class=\"dataframe\">\n",
       "  <thead>\n",
       "    <tr style=\"text-align: right;\">\n",
       "      <th></th>\n",
       "      <th>test_statistic</th>\n",
       "      <th>p</th>\n",
       "      <th>-log2(p)</th>\n",
       "    </tr>\n",
       "  </thead>\n",
       "  <tbody>\n",
       "    <tr>\n",
       "      <th>0</th>\n",
       "      <td>29.59</td>\n",
       "      <td>&lt;0.005</td>\n",
       "      <td>24.16</td>\n",
       "    </tr>\n",
       "  </tbody>\n",
       "</table>"
      ],
      "text/latex": [
       "\\begin{tabular}{lrrr}\n",
       "\\toprule\n",
       "{} &  test\\_statistic &             p &   -log2(p) \\\\\n",
       "\\midrule\n",
       "0 &        29.59149 &  5.333859e-08 &  24.160245 \\\\\n",
       "\\bottomrule\n",
       "\\end{tabular}\n"
      ],
      "text/plain": [
       "<lifelines.StatisticalResult: logrank_test>\n",
       "               t_0 = -1\n",
       " null_distribution = chi squared\n",
       "degrees_of_freedom = 1\n",
       "             alpha = 0.99\n",
       "         test_name = logrank_test\n",
       "\n",
       "---\n",
       " test_statistic      p  -log2(p)\n",
       "          29.59 <0.005     24.16"
      ]
     },
     "metadata": {},
     "output_type": "display_data"
    },
    {
     "data": {
      "text/html": [
       "<div>\n",
       "<style scoped>\n",
       "    .dataframe tbody tr th:only-of-type {\n",
       "        vertical-align: middle;\n",
       "    }\n",
       "\n",
       "    .dataframe tbody tr th {\n",
       "        vertical-align: top;\n",
       "    }\n",
       "\n",
       "    .dataframe thead th {\n",
       "        text-align: right;\n",
       "    }\n",
       "</style>\n",
       "<table border=\"1\" class=\"dataframe\">\n",
       "  <tbody>\n",
       "    <tr>\n",
       "      <th>t_0</th>\n",
       "      <td>-1</td>\n",
       "    </tr>\n",
       "    <tr>\n",
       "      <th>null_distribution</th>\n",
       "      <td>chi squared</td>\n",
       "    </tr>\n",
       "    <tr>\n",
       "      <th>degrees_of_freedom</th>\n",
       "      <td>1</td>\n",
       "    </tr>\n",
       "    <tr>\n",
       "      <th>alpha</th>\n",
       "      <td>0.99</td>\n",
       "    </tr>\n",
       "    <tr>\n",
       "      <th>test_name</th>\n",
       "      <td>logrank_test</td>\n",
       "    </tr>\n",
       "  </tbody>\n",
       "</table>\n",
       "</div><table border=\"1\" class=\"dataframe\">\n",
       "  <thead>\n",
       "    <tr style=\"text-align: right;\">\n",
       "      <th></th>\n",
       "      <th>test_statistic</th>\n",
       "      <th>p</th>\n",
       "      <th>-log2(p)</th>\n",
       "    </tr>\n",
       "  </thead>\n",
       "  <tbody>\n",
       "    <tr>\n",
       "      <th>0</th>\n",
       "      <td>99.59</td>\n",
       "      <td>&lt;0.005</td>\n",
       "      <td>75.50</td>\n",
       "    </tr>\n",
       "  </tbody>\n",
       "</table>"
      ],
      "text/latex": [
       "\\begin{tabular}{lrrr}\n",
       "\\toprule\n",
       "{} &  test\\_statistic &             p &   -log2(p) \\\\\n",
       "\\midrule\n",
       "0 &       99.589764 &  1.874709e-23 &  75.497679 \\\\\n",
       "\\bottomrule\n",
       "\\end{tabular}\n"
      ],
      "text/plain": [
       "<lifelines.StatisticalResult: logrank_test>\n",
       "               t_0 = -1\n",
       " null_distribution = chi squared\n",
       "degrees_of_freedom = 1\n",
       "             alpha = 0.99\n",
       "         test_name = logrank_test\n",
       "\n",
       "---\n",
       " test_statistic      p  -log2(p)\n",
       "          99.59 <0.005     75.50"
      ]
     },
     "metadata": {},
     "output_type": "display_data"
    },
    {
     "name": "stdout",
     "output_type": "stream",
     "text": [
      "None,\tNone\n"
     ]
    }
   ],
   "source": [
    "\n",
    "results1 = logrank_test(year[a], year[b], event[a], event[b], alpha=.99)\n",
    "results2=logrank_test(year[c], year[d], event[c], event[d], alpha=.99)\n",
    "print(f\"{results1.print_summary()},\\t{results2.print_summary()}\")\n"
   ]
  },
  {
   "cell_type": "code",
   "execution_count": 93,
   "metadata": {},
   "outputs": [
    {
     "name": "stderr",
     "output_type": "stream",
     "text": [
      "C:\\Users\\awahi\\anaconda3\\lib\\site-packages\\pandas\\core\\frame.py:4163: SettingWithCopyWarning: \n",
      "A value is trying to be set on a copy of a slice from a DataFrame\n",
      "\n",
      "See the caveats in the documentation: https://pandas.pydata.org/pandas-docs/stable/user_guide/indexing.html#returning-a-view-versus-a-copy\n",
      "  return super().drop(\n"
     ]
    }
   ],
   "source": [
    "df_final.drop('age_bins',axis=1,inplace=True)"
   ]
  },
  {
   "cell_type": "code",
   "execution_count": 94,
   "metadata": {},
   "outputs": [
    {
     "data": {
      "text/plain": [
       "<lifelines.NelsonAalenFitter:\"NA_estimate\", fitted with 11094 total observations, 7501 right-censored observations>"
      ]
     },
     "execution_count": 94,
     "metadata": {},
     "output_type": "execute_result"
    }
   ],
   "source": [
    "#Hazard Function:\n",
    "from lifelines import NelsonAalenFitter\n",
    "naf=NelsonAalenFitter()\n",
    "naf.fit(durations=year,event_observed=event)"
   ]
  },
  {
   "cell_type": "code",
   "execution_count": 95,
   "metadata": {},
   "outputs": [
    {
     "data": {
      "text/plain": [
       "<AxesSubplot:xlabel='timeline'>"
      ]
     },
     "execution_count": 95,
     "metadata": {},
     "output_type": "execute_result"
    },
    {
     "data": {
      "image/png": "[encoded data removed]",
      "text/plain": [
       "<Figure size 432x288 with 1 Axes>"
      ]
     },
     "metadata": {
      "needs_background": "light"
     },
     "output_type": "display_data"
    }
   ],
   "source": [
    "naf.plot_cumulative_hazard()"
   ]
  },
  {
   "cell_type": "code",
   "execution_count": 96,
   "metadata": {},
   "outputs": [
    {
     "data": {
      "text/html": [
       "<div>\n",
       "<style scoped>\n",
       "    .dataframe tbody tr th:only-of-type {\n",
       "        vertical-align: middle;\n",
       "    }\n",
       "\n",
       "    .dataframe tbody tr th {\n",
       "        vertical-align: top;\n",
       "    }\n",
       "\n",
       "    .dataframe thead th {\n",
       "        text-align: right;\n",
       "    }\n",
       "</style>\n",
       "<table border=\"1\" class=\"dataframe\">\n",
       "  <tbody>\n",
       "    <tr>\n",
       "      <th>model</th>\n",
       "      <td>lifelines.CoxPHFitter</td>\n",
       "    </tr>\n",
       "    <tr>\n",
       "      <th>duration col</th>\n",
       "      <td>'Delay'</td>\n",
       "    </tr>\n",
       "    <tr>\n",
       "      <th>event col</th>\n",
       "      <td>'vital_status'</td>\n",
       "    </tr>\n",
       "    <tr>\n",
       "      <th>baseline estimation</th>\n",
       "      <td>breslow</td>\n",
       "    </tr>\n",
       "    <tr>\n",
       "      <th>number of observations</th>\n",
       "      <td>11094</td>\n",
       "    </tr>\n",
       "    <tr>\n",
       "      <th>number of events observed</th>\n",
       "      <td>3593</td>\n",
       "    </tr>\n",
       "    <tr>\n",
       "      <th>partial log-likelihood</th>\n",
       "      <td>-29838.06</td>\n",
       "    </tr>\n",
       "    <tr>\n",
       "      <th>time fit was run</th>\n",
       "      <td>2022-08-07 18:37:37 UTC</td>\n",
       "    </tr>\n",
       "  </tbody>\n",
       "</table>\n",
       "</div><table border=\"1\" class=\"dataframe\">\n",
       "  <thead>\n",
       "    <tr style=\"text-align: right;\">\n",
       "      <th style=\"min-width: 12px;\"></th>\n",
       "      <th style=\"min-width: 12px;\">coef</th>\n",
       "      <th style=\"min-width: 12px;\">exp(coef)</th>\n",
       "      <th style=\"min-width: 12px;\">se(coef)</th>\n",
       "      <th style=\"min-width: 12px;\">coef lower 95%</th>\n",
       "      <th style=\"min-width: 12px;\">coef upper 95%</th>\n",
       "      <th style=\"min-width: 12px;\">exp(coef) lower 95%</th>\n",
       "      <th style=\"min-width: 12px;\">exp(coef) upper 95%</th>\n",
       "      <th style=\"min-width: 12px;\">cmp to</th>\n",
       "      <th style=\"min-width: 12px;\">z</th>\n",
       "      <th style=\"min-width: 12px;\">p</th>\n",
       "      <th style=\"min-width: 12px;\">-log2(p)</th>\n",
       "    </tr>\n",
       "  </thead>\n",
       "  <tbody>\n",
       "    <tr>\n",
       "      <th>type</th>\n",
       "      <td>0.00</td>\n",
       "      <td>1.00</td>\n",
       "      <td>0.00</td>\n",
       "      <td>-0.00</td>\n",
       "      <td>0.01</td>\n",
       "      <td>1.00</td>\n",
       "      <td>1.01</td>\n",
       "      <td>0.00</td>\n",
       "      <td>0.39</td>\n",
       "      <td>0.70</td>\n",
       "      <td>0.52</td>\n",
       "    </tr>\n",
       "    <tr>\n",
       "      <th>age_at_initial_pathologic_diagnosis</th>\n",
       "      <td>0.02</td>\n",
       "      <td>1.02</td>\n",
       "      <td>0.00</td>\n",
       "      <td>0.02</td>\n",
       "      <td>0.02</td>\n",
       "      <td>1.02</td>\n",
       "      <td>1.02</td>\n",
       "      <td>0.00</td>\n",
       "      <td>16.92</td>\n",
       "      <td>&lt;0.005</td>\n",
       "      <td>210.98</td>\n",
       "    </tr>\n",
       "    <tr>\n",
       "      <th>gender</th>\n",
       "      <td>0.09</td>\n",
       "      <td>1.10</td>\n",
       "      <td>0.03</td>\n",
       "      <td>0.03</td>\n",
       "      <td>0.16</td>\n",
       "      <td>1.03</td>\n",
       "      <td>1.17</td>\n",
       "      <td>0.00</td>\n",
       "      <td>2.74</td>\n",
       "      <td>0.01</td>\n",
       "      <td>7.36</td>\n",
       "    </tr>\n",
       "    <tr>\n",
       "      <th>race</th>\n",
       "      <td>0.01</td>\n",
       "      <td>1.01</td>\n",
       "      <td>0.02</td>\n",
       "      <td>-0.03</td>\n",
       "      <td>0.05</td>\n",
       "      <td>0.97</td>\n",
       "      <td>1.05</td>\n",
       "      <td>0.00</td>\n",
       "      <td>0.62</td>\n",
       "      <td>0.53</td>\n",
       "      <td>0.91</td>\n",
       "    </tr>\n",
       "    <tr>\n",
       "      <th>ajcc_pathologic_tumor_stage</th>\n",
       "      <td>0.15</td>\n",
       "      <td>1.16</td>\n",
       "      <td>0.00</td>\n",
       "      <td>0.14</td>\n",
       "      <td>0.16</td>\n",
       "      <td>1.15</td>\n",
       "      <td>1.17</td>\n",
       "      <td>0.00</td>\n",
       "      <td>31.07</td>\n",
       "      <td>&lt;0.005</td>\n",
       "      <td>701.63</td>\n",
       "    </tr>\n",
       "  </tbody>\n",
       "</table><br><div>\n",
       "<style scoped>\n",
       "    .dataframe tbody tr th:only-of-type {\n",
       "        vertical-align: middle;\n",
       "    }\n",
       "\n",
       "    .dataframe tbody tr th {\n",
       "        vertical-align: top;\n",
       "    }\n",
       "\n",
       "    .dataframe thead th {\n",
       "        text-align: right;\n",
       "    }\n",
       "</style>\n",
       "<table border=\"1\" class=\"dataframe\">\n",
       "  <tbody>\n",
       "    <tr>\n",
       "      <th>Concordance</th>\n",
       "      <td>0.71</td>\n",
       "    </tr>\n",
       "    <tr>\n",
       "      <th>Partial AIC</th>\n",
       "      <td>59686.11</td>\n",
       "    </tr>\n",
       "    <tr>\n",
       "      <th>log-likelihood ratio test</th>\n",
       "      <td>1458.21 on 5 df</td>\n",
       "    </tr>\n",
       "    <tr>\n",
       "      <th>-log2(p) of ll-ratio test</th>\n",
       "      <td>inf</td>\n",
       "    </tr>\n",
       "  </tbody>\n",
       "</table>\n",
       "</div>"
      ],
      "text/latex": [
       "\\begin{tabular}{lrrrrrrrrrrr}\n",
       "\\toprule\n",
       "{} &  coef &  exp(coef) &  se(coef) &  coef lower 95\\% &  coef upper 95\\% &  exp(coef) lower 95\\% &  exp(coef) upper 95\\% &  cmp to &     z &    p &  -log2(p) \\\\\n",
       "covariate                           &       &            &           &                 &                 &                      &                      &         &       &      &           \\\\\n",
       "\\midrule\n",
       "type                                &  0.00 &       1.00 &      0.00 &           -0.00 &            0.01 &                 1.00 &                 1.01 &    0.00 &  0.39 & 0.70 &      0.52 \\\\\n",
       "age\\_at\\_initial\\_pathologic\\_diagnosis &  0.02 &       1.02 &      0.00 &            0.02 &            0.02 &                 1.02 &                 1.02 &    0.00 & 16.92 & 0.00 &    210.98 \\\\\n",
       "gender                              &  0.09 &       1.10 &      0.03 &            0.03 &            0.16 &                 1.03 &                 1.17 &    0.00 &  2.74 & 0.01 &      7.36 \\\\\n",
       "race                                &  0.01 &       1.01 &      0.02 &           -0.03 &            0.05 &                 0.97 &                 1.05 &    0.00 &  0.62 & 0.53 &      0.91 \\\\\n",
       "ajcc\\_pathologic\\_tumor\\_stage         &  0.15 &       1.16 &      0.00 &            0.14 &            0.16 &                 1.15 &                 1.17 &    0.00 & 31.07 & 0.00 &    701.63 \\\\\n",
       "\\bottomrule\n",
       "\\end{tabular}\n"
      ],
      "text/plain": [
       "<lifelines.CoxPHFitter: fitted with 11094 total observations, 7501 right-censored observations>\n",
       "             duration col = 'Delay'\n",
       "                event col = 'vital_status'\n",
       "      baseline estimation = breslow\n",
       "   number of observations = 11094\n",
       "number of events observed = 3593\n",
       "   partial log-likelihood = -29838.06\n",
       "         time fit was run = 2022-08-07 18:37:37 UTC\n",
       "\n",
       "---\n",
       "                                      coef  exp(coef)   se(coef)   coef lower 95%   coef upper 95%  exp(coef) lower 95%  exp(coef) upper 95%\n",
       "covariate                                                                                                                                   \n",
       "type                                  0.00       1.00       0.00            -0.00             0.01                 1.00                 1.01\n",
       "age_at_initial_pathologic_diagnosis   0.02       1.02       0.00             0.02             0.02                 1.02                 1.02\n",
       "gender                                0.09       1.10       0.03             0.03             0.16                 1.03                 1.17\n",
       "race                                  0.01       1.01       0.02            -0.03             0.05                 0.97                 1.05\n",
       "ajcc_pathologic_tumor_stage           0.15       1.16       0.00             0.14             0.16                 1.15                 1.17\n",
       "\n",
       "                                      cmp to     z      p   -log2(p)\n",
       "covariate                                                           \n",
       "type                                    0.00  0.39   0.70       0.52\n",
       "age_at_initial_pathologic_diagnosis     0.00 16.92 <0.005     210.98\n",
       "gender                                  0.00  2.74   0.01       7.36\n",
       "race                                    0.00  0.62   0.53       0.91\n",
       "ajcc_pathologic_tumor_stage             0.00 31.07 <0.005     701.63\n",
       "---\n",
       "Concordance = 0.71\n",
       "Partial AIC = 59686.11\n",
       "log-likelihood ratio test = 1458.21 on 5 df\n",
       "-log2(p) of ll-ratio test = inf"
      ]
     },
     "metadata": {},
     "output_type": "display_data"
    }
   ],
   "source": [
    "from lifelines import CoxPHFitter\n",
    "cph=CoxPHFitter()\n",
    "cph.fit(df_final,\"Delay\",event_col='vital_status')\n",
    "cph.print_summary()"
   ]
  },
  {
   "cell_type": "code",
   "execution_count": 97,
   "metadata": {},
   "outputs": [
    {
     "data": {
      "text/plain": [
       "<AxesSubplot:xlabel='log(HR) (95% CI)'>"
      ]
     },
     "execution_count": 97,
     "metadata": {},
     "output_type": "execute_result"
    },
    {
     "data": {
      "image/png": "[encoded data removed]",
      "text/plain": [
       "<Figure size 432x288 with 1 Axes>"
      ]
     },
     "metadata": {
      "needs_background": "light"
     },
     "output_type": "display_data"
    }
   ],
   "source": [
    "cph.plot()"
   ]
  },
  {
   "cell_type": "code",
   "execution_count": 98,
   "metadata": {},
   "outputs": [
    {
     "data": {
      "text/plain": [
       "<AxesSubplot:>"
      ]
     },
     "execution_count": 98,
     "metadata": {},
     "output_type": "execute_result"
    },
    {
     "data": {
      "image/png": "[encoded data removed]",
      "text/plain": [
       "<Figure size 432x288 with 1 Axes>"
      ]
     },
     "metadata": {
      "needs_background": "light"
     },
     "output_type": "display_data"
    }
   ],
   "source": [
    "#survival probability of different age using CoxPHFitter \n",
    "cph.plot_partial_effects_on_outcome(covariates=\"age_at_initial_pathologic_diagnosis\",values=[20,30,60,70,80],cmap='coolwarm')"
   ]
  },
  {
   "cell_type": "code",
   "execution_count": 99,
   "metadata": {},
   "outputs": [
    {
     "data": {
      "text/plain": [
       "<AxesSubplot:>"
      ]
     },
     "execution_count": 99,
     "metadata": {},
     "output_type": "execute_result"
    },
    {
     "data": {
      "image/png": "[encoded data removed]",
      "text/plain": [
       "<Figure size 432x288 with 1 Axes>"
      ]
     },
     "metadata": {
      "needs_background": "light"
     },
     "output_type": "display_data"
    }
   ],
   "source": [
    "#survival probability of different tumor_stage using CoxPHFitter \n",
    "cph.plot_partial_effects_on_outcome(covariates=\"ajcc_pathologic_tumor_stage\",values=[3,6,10,14,18],cmap='coolwarm')"
   ]
  },
  {
   "cell_type": "markdown",
   "metadata": {},
   "source": [
    "Here the number indicates:\n",
    "3=>Stage I,          6=>Stage II,        10=>Stage III,        14=>Stage IV,             18=>Stage X\n"
   ]
  },
  {
   "cell_type": "markdown",
   "metadata": {},
   "source": [
    "# Modelling\n",
    "### Our aim was to predict the survival rate with given data"
   ]
  },
  {
   "cell_type": "code",
   "execution_count": 100,
   "metadata": {},
   "outputs": [],
   "source": [
    "#!pip install scikit-survival"
   ]
  },
  {
   "cell_type": "code",
   "execution_count": 101,
   "metadata": {},
   "outputs": [
    {
     "data": {
      "text/plain": [
       "0         0.000000\n",
       "1         0.000000\n",
       "2         0.000000\n",
       "3         0.000000\n",
       "4         0.000000\n",
       "           ...    \n",
       "11089    26.394521\n",
       "11090    28.345205\n",
       "11091    29.780822\n",
       "11092    30.731507\n",
       "11093    30.827397\n",
       "Name: Delay, Length: 11094, dtype: float64"
      ]
     },
     "execution_count": 101,
     "metadata": {},
     "output_type": "execute_result"
    }
   ],
   "source": [
    "year"
   ]
  },
  {
   "cell_type": "code",
   "execution_count": 102,
   "metadata": {},
   "outputs": [],
   "source": [
    "status=df_final['vital_status']"
   ]
  },
  {
   "cell_type": "code",
   "execution_count": 103,
   "metadata": {},
   "outputs": [],
   "source": [
    "y=pd.concat([status,year],axis=1)\n"
   ]
  },
  {
   "cell_type": "code",
   "execution_count": 104,
   "metadata": {},
   "outputs": [
    {
     "data": {
      "text/plain": [
       "(11094, 2)"
      ]
     },
     "execution_count": 104,
     "metadata": {},
     "output_type": "execute_result"
    }
   ],
   "source": [
    "y.shape"
   ]
  },
  {
   "cell_type": "code",
   "execution_count": 105,
   "metadata": {},
   "outputs": [],
   "source": [
    "y['vital_status']=y['vital_status'].astype('bool')"
   ]
  },
  {
   "cell_type": "code",
   "execution_count": 106,
   "metadata": {},
   "outputs": [
    {
     "data": {
      "text/html": [
       "<div>\n",
       "<style scoped>\n",
       "    .dataframe tbody tr th:only-of-type {\n",
       "        vertical-align: middle;\n",
       "    }\n",
       "\n",
       "    .dataframe tbody tr th {\n",
       "        vertical-align: top;\n",
       "    }\n",
       "\n",
       "    .dataframe thead th {\n",
       "        text-align: right;\n",
       "    }\n",
       "</style>\n",
       "<table border=\"1\" class=\"dataframe\">\n",
       "  <thead>\n",
       "    <tr style=\"text-align: right;\">\n",
       "      <th></th>\n",
       "      <th>vital_status</th>\n",
       "      <th>Delay</th>\n",
       "    </tr>\n",
       "  </thead>\n",
       "  <tbody>\n",
       "    <tr>\n",
       "      <th>0</th>\n",
       "      <td>False</td>\n",
       "      <td>0.000000</td>\n",
       "    </tr>\n",
       "    <tr>\n",
       "      <th>1</th>\n",
       "      <td>False</td>\n",
       "      <td>0.000000</td>\n",
       "    </tr>\n",
       "    <tr>\n",
       "      <th>2</th>\n",
       "      <td>False</td>\n",
       "      <td>0.000000</td>\n",
       "    </tr>\n",
       "    <tr>\n",
       "      <th>3</th>\n",
       "      <td>False</td>\n",
       "      <td>0.000000</td>\n",
       "    </tr>\n",
       "    <tr>\n",
       "      <th>4</th>\n",
       "      <td>False</td>\n",
       "      <td>0.000000</td>\n",
       "    </tr>\n",
       "    <tr>\n",
       "      <th>...</th>\n",
       "      <td>...</td>\n",
       "      <td>...</td>\n",
       "    </tr>\n",
       "    <tr>\n",
       "      <th>11089</th>\n",
       "      <td>False</td>\n",
       "      <td>26.394521</td>\n",
       "    </tr>\n",
       "    <tr>\n",
       "      <th>11090</th>\n",
       "      <td>True</td>\n",
       "      <td>28.345205</td>\n",
       "    </tr>\n",
       "    <tr>\n",
       "      <th>11091</th>\n",
       "      <td>True</td>\n",
       "      <td>29.780822</td>\n",
       "    </tr>\n",
       "    <tr>\n",
       "      <th>11092</th>\n",
       "      <td>False</td>\n",
       "      <td>30.731507</td>\n",
       "    </tr>\n",
       "    <tr>\n",
       "      <th>11093</th>\n",
       "      <td>False</td>\n",
       "      <td>30.827397</td>\n",
       "    </tr>\n",
       "  </tbody>\n",
       "</table>\n",
       "<p>11094 rows × 2 columns</p>\n",
       "</div>"
      ],
      "text/plain": [
       "       vital_status      Delay\n",
       "0             False   0.000000\n",
       "1             False   0.000000\n",
       "2             False   0.000000\n",
       "3             False   0.000000\n",
       "4             False   0.000000\n",
       "...             ...        ...\n",
       "11089         False  26.394521\n",
       "11090          True  28.345205\n",
       "11091          True  29.780822\n",
       "11092         False  30.731507\n",
       "11093         False  30.827397\n",
       "\n",
       "[11094 rows x 2 columns]"
      ]
     },
     "execution_count": 106,
     "metadata": {},
     "output_type": "execute_result"
    }
   ],
   "source": [
    "y"
   ]
  },
  {
   "cell_type": "code",
   "execution_count": 107,
   "metadata": {},
   "outputs": [
    {
     "data": {
      "text/html": [
       "<div>\n",
       "<style scoped>\n",
       "    .dataframe tbody tr th:only-of-type {\n",
       "        vertical-align: middle;\n",
       "    }\n",
       "\n",
       "    .dataframe tbody tr th {\n",
       "        vertical-align: top;\n",
       "    }\n",
       "\n",
       "    .dataframe thead th {\n",
       "        text-align: right;\n",
       "    }\n",
       "</style>\n",
       "<table border=\"1\" class=\"dataframe\">\n",
       "  <thead>\n",
       "    <tr style=\"text-align: right;\">\n",
       "      <th></th>\n",
       "      <th>vital_status</th>\n",
       "      <th>Delay</th>\n",
       "    </tr>\n",
       "  </thead>\n",
       "  <tbody>\n",
       "    <tr>\n",
       "      <th>11089</th>\n",
       "      <td>False</td>\n",
       "      <td>26.394521</td>\n",
       "    </tr>\n",
       "    <tr>\n",
       "      <th>11090</th>\n",
       "      <td>True</td>\n",
       "      <td>28.345205</td>\n",
       "    </tr>\n",
       "    <tr>\n",
       "      <th>11091</th>\n",
       "      <td>True</td>\n",
       "      <td>29.780822</td>\n",
       "    </tr>\n",
       "    <tr>\n",
       "      <th>11092</th>\n",
       "      <td>False</td>\n",
       "      <td>30.731507</td>\n",
       "    </tr>\n",
       "    <tr>\n",
       "      <th>11093</th>\n",
       "      <td>False</td>\n",
       "      <td>30.827397</td>\n",
       "    </tr>\n",
       "  </tbody>\n",
       "</table>\n",
       "</div>"
      ],
      "text/plain": [
       "       vital_status      Delay\n",
       "11089         False  26.394521\n",
       "11090          True  28.345205\n",
       "11091          True  29.780822\n",
       "11092         False  30.731507\n",
       "11093         False  30.827397"
      ]
     },
     "execution_count": 107,
     "metadata": {},
     "output_type": "execute_result"
    }
   ],
   "source": [
    "y.tail()"
   ]
  },
  {
   "cell_type": "code",
   "execution_count": null,
   "metadata": {},
   "outputs": [],
   "source": []
  },
  {
   "cell_type": "code",
   "execution_count": 110,
   "metadata": {},
   "outputs": [
    {
     "data": {
      "text/plain": [
       "rec.array([(False,  0.        ), (False,  0.        ),\n",
       "           (False,  0.        ), ..., ( True, 29.78082192),\n",
       "           (False, 30.73150685), (False, 30.82739726)],\n",
       "          dtype=[('vital_status', '?'), ('Delay', '<f8')])"
      ]
     },
     "execution_count": 110,
     "metadata": {},
     "output_type": "execute_result"
    }
   ],
   "source": [
    "#s1=pd.DataFrame.to_records(s[['vital_status','Delay']],index=False)\n",
    "y1=pd.DataFrame.to_records(y[['vital_status','Delay']],index=False)\n",
    "y1"
   ]
  },
  {
   "cell_type": "code",
   "execution_count": 111,
   "metadata": {},
   "outputs": [],
   "source": [
    "x=df_final.drop('vital_status',axis=1)\n",
    "x1=x.drop('Delay',axis=1)"
   ]
  },
  {
   "cell_type": "code",
   "execution_count": 112,
   "metadata": {},
   "outputs": [
    {
     "data": {
      "text/html": [
       "<div>\n",
       "<style scoped>\n",
       "    .dataframe tbody tr th:only-of-type {\n",
       "        vertical-align: middle;\n",
       "    }\n",
       "\n",
       "    .dataframe tbody tr th {\n",
       "        vertical-align: top;\n",
       "    }\n",
       "\n",
       "    .dataframe thead th {\n",
       "        text-align: right;\n",
       "    }\n",
       "</style>\n",
       "<table border=\"1\" class=\"dataframe\">\n",
       "  <thead>\n",
       "    <tr style=\"text-align: right;\">\n",
       "      <th></th>\n",
       "      <th>type</th>\n",
       "      <th>age_at_initial_pathologic_diagnosis</th>\n",
       "      <th>gender</th>\n",
       "      <th>race</th>\n",
       "      <th>ajcc_pathologic_tumor_stage</th>\n",
       "    </tr>\n",
       "  </thead>\n",
       "  <tbody>\n",
       "    <tr>\n",
       "      <th>0</th>\n",
       "      <td>1</td>\n",
       "      <td>74</td>\n",
       "      <td>1</td>\n",
       "      <td>1</td>\n",
       "      <td>6</td>\n",
       "    </tr>\n",
       "    <tr>\n",
       "      <th>1</th>\n",
       "      <td>2</td>\n",
       "      <td>55</td>\n",
       "      <td>0</td>\n",
       "      <td>1</td>\n",
       "      <td>12</td>\n",
       "    </tr>\n",
       "    <tr>\n",
       "      <th>2</th>\n",
       "      <td>2</td>\n",
       "      <td>69</td>\n",
       "      <td>0</td>\n",
       "      <td>1</td>\n",
       "      <td>7</td>\n",
       "    </tr>\n",
       "    <tr>\n",
       "      <th>3</th>\n",
       "      <td>2</td>\n",
       "      <td>56</td>\n",
       "      <td>0</td>\n",
       "      <td>1</td>\n",
       "      <td>8</td>\n",
       "    </tr>\n",
       "    <tr>\n",
       "      <th>4</th>\n",
       "      <td>2</td>\n",
       "      <td>55</td>\n",
       "      <td>0</td>\n",
       "      <td>1</td>\n",
       "      <td>7</td>\n",
       "    </tr>\n",
       "    <tr>\n",
       "      <th>...</th>\n",
       "      <td>...</td>\n",
       "      <td>...</td>\n",
       "      <td>...</td>\n",
       "      <td>...</td>\n",
       "      <td>...</td>\n",
       "    </tr>\n",
       "    <tr>\n",
       "      <th>11089</th>\n",
       "      <td>18</td>\n",
       "      <td>5</td>\n",
       "      <td>1</td>\n",
       "      <td>4</td>\n",
       "      <td>6</td>\n",
       "    </tr>\n",
       "    <tr>\n",
       "      <th>11090</th>\n",
       "      <td>16</td>\n",
       "      <td>45</td>\n",
       "      <td>0</td>\n",
       "      <td>4</td>\n",
       "      <td>8</td>\n",
       "    </tr>\n",
       "    <tr>\n",
       "      <th>11091</th>\n",
       "      <td>16</td>\n",
       "      <td>37</td>\n",
       "      <td>1</td>\n",
       "      <td>4</td>\n",
       "      <td>0</td>\n",
       "    </tr>\n",
       "    <tr>\n",
       "      <th>11092</th>\n",
       "      <td>22</td>\n",
       "      <td>9</td>\n",
       "      <td>0</td>\n",
       "      <td>4</td>\n",
       "      <td>5</td>\n",
       "    </tr>\n",
       "    <tr>\n",
       "      <th>11093</th>\n",
       "      <td>22</td>\n",
       "      <td>36</td>\n",
       "      <td>0</td>\n",
       "      <td>4</td>\n",
       "      <td>5</td>\n",
       "    </tr>\n",
       "  </tbody>\n",
       "</table>\n",
       "<p>11094 rows × 5 columns</p>\n",
       "</div>"
      ],
      "text/plain": [
       "       type  age_at_initial_pathologic_diagnosis  gender  race  \\\n",
       "0         1                                   74       1     1   \n",
       "1         2                                   55       0     1   \n",
       "2         2                                   69       0     1   \n",
       "3         2                                   56       0     1   \n",
       "4         2                                   55       0     1   \n",
       "...     ...                                  ...     ...   ...   \n",
       "11089    18                                    5       1     4   \n",
       "11090    16                                   45       0     4   \n",
       "11091    16                                   37       1     4   \n",
       "11092    22                                    9       0     4   \n",
       "11093    22                                   36       0     4   \n",
       "\n",
       "       ajcc_pathologic_tumor_stage  \n",
       "0                                6  \n",
       "1                               12  \n",
       "2                                7  \n",
       "3                                8  \n",
       "4                                7  \n",
       "...                            ...  \n",
       "11089                            6  \n",
       "11090                            8  \n",
       "11091                            0  \n",
       "11092                            5  \n",
       "11093                            5  \n",
       "\n",
       "[11094 rows x 5 columns]"
      ]
     },
     "execution_count": 112,
     "metadata": {},
     "output_type": "execute_result"
    }
   ],
   "source": [
    "x1"
   ]
  },
  {
   "cell_type": "code",
   "execution_count": 113,
   "metadata": {},
   "outputs": [
    {
     "data": {
      "text/plain": [
       "CoxPHSurvivalAnalysis()"
      ]
     },
     "execution_count": 113,
     "metadata": {},
     "output_type": "execute_result"
    }
   ],
   "source": [
    "from sksurv.linear_model import CoxPHSurvivalAnalysis\n",
    "\n",
    "estimator = CoxPHSurvivalAnalysis()\n",
    "estimator.fit(x1,y1)"
   ]
  },
  {
   "cell_type": "code",
   "execution_count": 115,
   "metadata": {},
   "outputs": [
    {
     "data": {
      "text/plain": [
       "0.7103583213645015"
      ]
     },
     "execution_count": 115,
     "metadata": {},
     "output_type": "execute_result"
    }
   ],
   "source": [
    "from sksurv.metrics import concordance_index_censored\n",
    "\n",
    "prediction = estimator.predict(x1)\n",
    "result = concordance_index_censored(y1[\"vital_status\"], y1[\"Delay\"], prediction)\n",
    "result[0]"
   ]
  },
  {
   "cell_type": "code",
   "execution_count": 117,
   "metadata": {},
   "outputs": [
    {
     "data": {
      "text/html": [
       "<div>\n",
       "<style scoped>\n",
       "    .dataframe tbody tr th:only-of-type {\n",
       "        vertical-align: middle;\n",
       "    }\n",
       "\n",
       "    .dataframe tbody tr th {\n",
       "        vertical-align: top;\n",
       "    }\n",
       "\n",
       "    .dataframe thead th {\n",
       "        text-align: right;\n",
       "    }\n",
       "</style>\n",
       "<table border=\"1\" class=\"dataframe\">\n",
       "  <thead>\n",
       "    <tr style=\"text-align: right;\">\n",
       "      <th></th>\n",
       "      <th>type</th>\n",
       "      <th>age_at_initial_pathologic_diagnosis</th>\n",
       "      <th>gender</th>\n",
       "      <th>race</th>\n",
       "      <th>ajcc_pathologic_tumor_stage</th>\n",
       "    </tr>\n",
       "  </thead>\n",
       "  <tbody>\n",
       "    <tr>\n",
       "      <th>1</th>\n",
       "      <td>1</td>\n",
       "      <td>65</td>\n",
       "      <td>0</td>\n",
       "      <td>1</td>\n",
       "      <td>6</td>\n",
       "    </tr>\n",
       "    <tr>\n",
       "      <th>2</th>\n",
       "      <td>2</td>\n",
       "      <td>75</td>\n",
       "      <td>0</td>\n",
       "      <td>4</td>\n",
       "      <td>12</td>\n",
       "    </tr>\n",
       "    <tr>\n",
       "      <th>3</th>\n",
       "      <td>6</td>\n",
       "      <td>46</td>\n",
       "      <td>1</td>\n",
       "      <td>0</td>\n",
       "      <td>7</td>\n",
       "    </tr>\n",
       "    <tr>\n",
       "      <th>4</th>\n",
       "      <td>15</td>\n",
       "      <td>40</td>\n",
       "      <td>1</td>\n",
       "      <td>0</td>\n",
       "      <td>8</td>\n",
       "    </tr>\n",
       "  </tbody>\n",
       "</table>\n",
       "</div>"
      ],
      "text/plain": [
       "   type  age_at_initial_pathologic_diagnosis  gender  race  \\\n",
       "1     1                                   65       0     1   \n",
       "2     2                                   75       0     4   \n",
       "3     6                                   46       1     0   \n",
       "4    15                                   40       1     0   \n",
       "\n",
       "   ajcc_pathologic_tumor_stage  \n",
       "1                            6  \n",
       "2                           12  \n",
       "3                            7  \n",
       "4                            8  "
      ]
     },
     "execution_count": 117,
     "metadata": {},
     "output_type": "execute_result"
    }
   ],
   "source": [
    "x_new = pd.DataFrame.from_dict({\n",
    "    1: [1, 65, 0, 1, 6],\n",
    "    2: [2, 75, 0, 4, 12],\n",
    "    3: [6, 46, 1, 0, 7],\n",
    "    4: [15, 40, 1, 0, 8]},\n",
    "     columns=x1.columns, orient='index')\n",
    "x_new"
   ]
  },
  {
   "cell_type": "code",
   "execution_count": 118,
   "metadata": {},
   "outputs": [
    {
     "data": {
      "text/plain": [
       "<matplotlib.legend.Legend at 0x18ee5797940>"
      ]
     },
     "execution_count": 118,
     "metadata": {},
     "output_type": "execute_result"
    },
    {
     "data": {
      "image/png": "[encoded data removed]",
      "text/plain": [
       "<Figure size 432x288 with 1 Axes>"
      ]
     },
     "metadata": {
      "needs_background": "light"
     },
     "output_type": "display_data"
    }
   ],
   "source": [
    "pred_surv = estimator.predict_survival_function(x_new)\n",
    "time_points = np.arange(1, 30)\n",
    "for i, surv_func in enumerate(pred_surv):\n",
    "    plt.step(time_points, surv_func(time_points), where=\"post\",\n",
    "             label=\"Sample %d\" % (i + 1))\n",
    "plt.ylabel(\"est. probability of survival $\\hat{S}(y)$\")\n",
    "plt.xlabel(\"year $y$\")\n",
    "plt.legend(loc=\"best\")"
   ]
  },
  {
   "cell_type": "markdown",
   "metadata": {},
   "source": [
    "## "
   ]
  }
 ],
 "metadata": {
  "kernelspec": {
   "display_name": "Python 3",
   "language": "python",
   "name": "python3"
  },
  "language_info": {
   "codemirror_mode": {
    "name": "ipython",
    "version": 3
   },
   "file_extension": ".py",
   "mimetype": "text/x-python",
   "name": "python",
   "nbconvert_exporter": "python",
   "pygments_lexer": "ipython3",
   "version": "3.8.5"
  }
 },
 "nbformat": 4,
 "nbformat_minor": 4
}
